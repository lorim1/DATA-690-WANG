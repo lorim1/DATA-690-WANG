{
  "nbformat": 4,
  "nbformat_minor": 0,
  "metadata": {
    "colab": {
      "name": "Assignment_7.ipynb",
      "provenance": [],
      "collapsed_sections": [],
      "toc_visible": true
    },
    "kernelspec": {
      "name": "python3",
      "display_name": "Python 3"
    }
  },
  "cells": [
    {
      "cell_type": "markdown",
      "metadata": {
        "id": "hDCRM2K9lkTn"
      },
      "source": [
        "The first half of this assignment is a repeat of assignment 05.\n",
        "\n",
        "This gives you a chance to refresh.\n",
        "\n",
        "The second half is new and gives you a chance to perform additional practices.\n",
        "\n",
        "You also get a chance to use some of the Python libraries and techniques.\n",
        "\n",
        "You will unzip the zip file manually in preparation for this assignment.\n",
        "\n",
        "The link to the zip file is (you have already used it in your assignment 5):\n",
        "\n",
        "https://ed-public-download.app.cloud.gov/downloads/CollegeScorecard_Raw_Data.zip\n",
        "\n",
        "After unzipping, You will have all files in one folder named \"CollegeScorecard_Raw_Data\"\n",
        "\n",
        "The folder contains the yearly data files from 1996 to 2019 school years.\n",
        "\n",
        "if you are using your local environment, I suggest you create a new folder call \"Assignment7\" and place the Notebook file and the data folder under it.\n"
      ]
    },
    {
      "cell_type": "code",
      "metadata": {
        "id": "KXdNb36jlhyr"
      },
      "source": [
        "# Import libraries\n",
        "import matplotlib.pyplot as plt\n",
        "import os\n",
        "import pandas as pd\n",
        "import zipfile"
      ],
      "execution_count": null,
      "outputs": []
    },
    {
      "cell_type": "code",
      "metadata": {
        "id": "ydTMWAXvlqYn",
        "outputId": "1f649e5b-7e09-4f1c-a8b0-d736fec2ace8",
        "colab": {
          "base_uri": "https://localhost:8080/",
          "height": 35
        }
      },
      "source": [
        "# Display the current workin directory using os.getcwd()\n",
        "# you would need to import a standard Python library called os which stands for operating system,\n",
        "# so place that import statement in the previous cell.\n",
        "# Since your notebook and your data files are not in # the same folder, \n",
        "# you want to make sure what is the current working folder and \n",
        "# how to access a data file in a different folder\n",
        "print(os.getcwd()) "
      ],
      "execution_count": null,
      "outputs": [
        {
          "output_type": "stream",
          "text": [
            "/content\n"
          ],
          "name": "stdout"
        }
      ]
    },
    {
      "cell_type": "code",
      "metadata": {
        "id": "AyKAiUZNlvdd"
      },
      "source": [
        "# Extracts files from zip file\n",
        "with zipfile.ZipFile('CollegeScorecard_Raw_Data.zip', 'r') as zip_ref:\n",
        "    zip_ref.extractall('College_Scorecard')"
      ],
      "execution_count": null,
      "outputs": []
    },
    {
      "cell_type": "code",
      "metadata": {
        "id": "NToXIHJIT0Z4",
        "outputId": "8015ecf0-d05a-4316-fb39-bbf077f5628d",
        "colab": {
          "base_uri": "https://localhost:8080/",
          "height": 55
        }
      },
      "source": [
        "# os library has a method call listdir which generates a list of files in a directory/folder.\n",
        "# use this method to assign the contents (list of file names) of the data folder to a variable and display it.\n",
        "# You can use ../ construct to traverse to the parent folder and then to another foloder parallel to the current folder\n",
        "college_list = os.listdir('College_Scorecard/CollegeScorecard_Raw_Data')\n",
        "print(college_list)"
      ],
      "execution_count": null,
      "outputs": [
        {
          "output_type": "stream",
          "text": [
            "['MERGED2018_19_PP.csv', 'MERGED1996_97_PP.csv', 'MERGED2016_17_PP.csv', 'MERGED2010_11_PP.csv', 'MERGED2004_05_PP.csv', 'MERGED2015_16_PP.csv', 'MERGED2008_09_PP.csv', 'MERGED2013_14_PP.csv', 'MERGED2003_04_PP.csv', 'FieldOfStudyData1415_1516_PP.csv', 'MERGED2017_18_PP.csv', 'MERGED2005_06_PP.csv', 'MERGED2007_08_PP.csv', 'MERGED1998_99_PP.csv', 'MERGED2006_07_PP.csv', 'data.yaml', 'FieldOfStudyData1516_1617_PP.csv', 'MERGED2012_13_PP.csv', 'MERGED2009_10_PP.csv', 'MERGED1999_00_PP.csv', 'Crosswalks.zip', 'MERGED2001_02_PP.csv', 'MERGED2011_12_PP.csv', 'MERGED2014_15_PP.csv', 'MERGED1997_98_PP.csv', '.DS_Store', 'MERGED2000_01_PP.csv', 'MERGED2002_03_PP.csv']\n"
          ],
          "name": "stdout"
        }
      ]
    },
    {
      "cell_type": "code",
      "metadata": {
        "id": "1UVxYZKNly6y",
        "outputId": "e765fb39-c386-4785-ecfb-d638decc4def",
        "colab": {
          "base_uri": "https://localhost:8080/",
          "height": 55
        }
      },
      "source": [
        "# The folder contains files that are not the yearly data files\n",
        "# write code to remove the unwanted files from the list vsriable \n",
        "# Note: don't remove/delete these files from the folder in your drive\n",
        "# For example, use the file extension to only keep the csv files \n",
        "# or use the name patter - data file name begins with \"MERGED\"\n",
        "# You can use the concept of list comprehension to write just \n",
        "# one line of code as well as using a for loop, your choice.\n",
        "data_list = []\n",
        "for x in range(len(college_list)):\n",
        "  if college_list[x].find('MERGED') == False: \n",
        "    data_list.append(college_list[x])\n",
        "  else:\n",
        "    pass\n",
        "print(data_list)"
      ],
      "execution_count": null,
      "outputs": [
        {
          "output_type": "stream",
          "text": [
            "['MERGED2018_19_PP.csv', 'MERGED1996_97_PP.csv', 'MERGED2016_17_PP.csv', 'MERGED2010_11_PP.csv', 'MERGED2004_05_PP.csv', 'MERGED2015_16_PP.csv', 'MERGED2008_09_PP.csv', 'MERGED2013_14_PP.csv', 'MERGED2003_04_PP.csv', 'MERGED2017_18_PP.csv', 'MERGED2005_06_PP.csv', 'MERGED2007_08_PP.csv', 'MERGED1998_99_PP.csv', 'MERGED2006_07_PP.csv', 'MERGED2012_13_PP.csv', 'MERGED2009_10_PP.csv', 'MERGED1999_00_PP.csv', 'MERGED2001_02_PP.csv', 'MERGED2011_12_PP.csv', 'MERGED2014_15_PP.csv', 'MERGED1997_98_PP.csv', 'MERGED2000_01_PP.csv', 'MERGED2002_03_PP.csv']\n"
          ],
          "name": "stdout"
        }
      ]
    },
    {
      "cell_type": "code",
      "metadata": {
        "id": "TO2esMQjlznO",
        "outputId": "7bb82c1d-9460-4228-8928-a29fe0d79208",
        "colab": {
          "base_uri": "https://localhost:8080/",
          "height": 55
        }
      },
      "source": [
        "# Now that you have a clean list of the yearly files, you want to loop through them\n",
        "# and read them into a dataframe one at a time. You only load six columns: \n",
        "# [\"UNITID\", \"INSTNM\", \"STABBR\", \"REGION\", \"ADM_RATE\", \"TUITIONFEE_IN\"].\n",
        "# You should use \"usecols\" option of Pandas to avoid reading unwanted columns.\n",
        "data_list = sorted(data_list)\n",
        "list_of_dfs = dict()\n",
        "usecols = [\"UNITID\", \"INSTNM\", \"STABBR\", \"REGION\", \"ADM_RATE\", \"TUITIONFEE_IN\"]\n",
        "for fname in data_list:\n",
        "    list_of_dfs[fname] = pd.read_csv(\"College_Scorecard/CollegeScorecard_Raw_Data/\"+fname, usecols=usecols)\n",
        "\n",
        "print(list_of_dfs.keys())"
      ],
      "execution_count": null,
      "outputs": [
        {
          "output_type": "stream",
          "text": [
            "dict_keys(['MERGED1996_97_PP.csv', 'MERGED1997_98_PP.csv', 'MERGED1998_99_PP.csv', 'MERGED1999_00_PP.csv', 'MERGED2000_01_PP.csv', 'MERGED2001_02_PP.csv', 'MERGED2002_03_PP.csv', 'MERGED2003_04_PP.csv', 'MERGED2004_05_PP.csv', 'MERGED2005_06_PP.csv', 'MERGED2006_07_PP.csv', 'MERGED2007_08_PP.csv', 'MERGED2008_09_PP.csv', 'MERGED2009_10_PP.csv', 'MERGED2010_11_PP.csv', 'MERGED2011_12_PP.csv', 'MERGED2012_13_PP.csv', 'MERGED2013_14_PP.csv', 'MERGED2014_15_PP.csv', 'MERGED2015_16_PP.csv', 'MERGED2016_17_PP.csv', 'MERGED2017_18_PP.csv', 'MERGED2018_19_PP.csv'])\n"
          ],
          "name": "stdout"
        }
      ]
    },
    {
      "cell_type": "code",
      "metadata": {
        "id": "sbVUbEde9TWh",
        "outputId": "5b678d79-6ae6-4c54-df8e-54798f1f8e32",
        "colab": {
          "base_uri": "https://localhost:8080/",
          "height": 1000
        }
      },
      "source": [
        "# You also want to add a new column call \"YEAR\" to differentiate the data frames from each other.\n",
        "# The YEAR variable should be yyyy format so tht you can convert them into integer.\n",
        "# if you use the format yyyy-yy (such as 1997-98 school year), you will not be able to convert them directly to integer\n",
        "# if you use scatter plot, the YEAR needs to be converted to integer or float. \n",
        "\n",
        "for x in data_list:\n",
        "  year = int(x[6:10])\n",
        "  list_of_dfs[x][\"YEAR\"] = year\n",
        "  print(list_of_dfs[x][\"YEAR\"])"
      ],
      "execution_count": null,
      "outputs": [
        {
          "output_type": "stream",
          "text": [
            "0       1996\n",
            "1       1996\n",
            "2       1996\n",
            "3       1996\n",
            "4       1996\n",
            "        ... \n",
            "7002    1996\n",
            "7003    1996\n",
            "7004    1996\n",
            "7005    1996\n",
            "7006    1996\n",
            "Name: YEAR, Length: 7007, dtype: int64\n",
            "0       1997\n",
            "1       1997\n",
            "2       1997\n",
            "3       1997\n",
            "4       1997\n",
            "        ... \n",
            "6929    1997\n",
            "6930    1997\n",
            "6931    1997\n",
            "6932    1997\n",
            "6933    1997\n",
            "Name: YEAR, Length: 6934, dtype: int64\n",
            "0       1998\n",
            "1       1998\n",
            "2       1998\n",
            "3       1998\n",
            "4       1998\n",
            "        ... \n",
            "6697    1998\n",
            "6698    1998\n",
            "6699    1998\n",
            "6700    1998\n",
            "6701    1998\n",
            "Name: YEAR, Length: 6702, dtype: int64\n",
            "0       1999\n",
            "1       1999\n",
            "2       1999\n",
            "3       1999\n",
            "4       1999\n",
            "        ... \n",
            "6604    1999\n",
            "6605    1999\n",
            "6606    1999\n",
            "6607    1999\n",
            "6608    1999\n",
            "Name: YEAR, Length: 6609, dtype: int64\n",
            "0       2000\n",
            "1       2000\n",
            "2       2000\n",
            "3       2000\n",
            "4       2000\n",
            "        ... \n",
            "6649    2000\n",
            "6650    2000\n",
            "6651    2000\n",
            "6652    2000\n",
            "6653    2000\n",
            "Name: YEAR, Length: 6654, dtype: int64\n",
            "0       2001\n",
            "1       2001\n",
            "2       2001\n",
            "3       2001\n",
            "4       2001\n",
            "        ... \n",
            "6720    2001\n",
            "6721    2001\n",
            "6722    2001\n",
            "6723    2001\n",
            "6724    2001\n",
            "Name: YEAR, Length: 6725, dtype: int64\n",
            "0       2002\n",
            "1       2002\n",
            "2       2002\n",
            "3       2002\n",
            "4       2002\n",
            "        ... \n",
            "6647    2002\n",
            "6648    2002\n",
            "6649    2002\n",
            "6650    2002\n",
            "6651    2002\n",
            "Name: YEAR, Length: 6652, dtype: int64\n",
            "0       2003\n",
            "1       2003\n",
            "2       2003\n",
            "3       2003\n",
            "4       2003\n",
            "        ... \n",
            "6668    2003\n",
            "6669    2003\n",
            "6670    2003\n",
            "6671    2003\n",
            "6672    2003\n",
            "Name: YEAR, Length: 6673, dtype: int64\n",
            "0       2004\n",
            "1       2004\n",
            "2       2004\n",
            "3       2004\n",
            "4       2004\n",
            "        ... \n",
            "6742    2004\n",
            "6743    2004\n",
            "6744    2004\n",
            "6745    2004\n",
            "6746    2004\n",
            "Name: YEAR, Length: 6747, dtype: int64\n",
            "0       2005\n",
            "1       2005\n",
            "2       2005\n",
            "3       2005\n",
            "4       2005\n",
            "        ... \n",
            "6894    2005\n",
            "6895    2005\n",
            "6896    2005\n",
            "6897    2005\n",
            "6898    2005\n",
            "Name: YEAR, Length: 6899, dtype: int64\n",
            "0       2006\n",
            "1       2006\n",
            "2       2006\n",
            "3       2006\n",
            "4       2006\n",
            "        ... \n",
            "6946    2006\n",
            "6947    2006\n",
            "6948    2006\n",
            "6949    2006\n",
            "6950    2006\n",
            "Name: YEAR, Length: 6951, dtype: int64\n",
            "0       2007\n",
            "1       2007\n",
            "2       2007\n",
            "3       2007\n",
            "4       2007\n",
            "        ... \n",
            "6966    2007\n",
            "6967    2007\n",
            "6968    2007\n",
            "6969    2007\n",
            "6970    2007\n",
            "Name: YEAR, Length: 6971, dtype: int64\n",
            "0       2008\n",
            "1       2008\n",
            "2       2008\n",
            "3       2008\n",
            "4       2008\n",
            "        ... \n",
            "7050    2008\n",
            "7051    2008\n",
            "7052    2008\n",
            "7053    2008\n",
            "7054    2008\n",
            "Name: YEAR, Length: 7055, dtype: int64\n",
            "0       2009\n",
            "1       2009\n",
            "2       2009\n",
            "3       2009\n",
            "4       2009\n",
            "        ... \n",
            "7212    2009\n",
            "7213    2009\n",
            "7214    2009\n",
            "7215    2009\n",
            "7216    2009\n",
            "Name: YEAR, Length: 7217, dtype: int64\n",
            "0       2010\n",
            "1       2010\n",
            "2       2010\n",
            "3       2010\n",
            "4       2010\n",
            "        ... \n",
            "7465    2010\n",
            "7466    2010\n",
            "7467    2010\n",
            "7468    2010\n",
            "7469    2010\n",
            "Name: YEAR, Length: 7470, dtype: int64\n",
            "0       2011\n",
            "1       2011\n",
            "2       2011\n",
            "3       2011\n",
            "4       2011\n",
            "        ... \n",
            "7741    2011\n",
            "7742    2011\n",
            "7743    2011\n",
            "7744    2011\n",
            "7745    2011\n",
            "Name: YEAR, Length: 7746, dtype: int64\n",
            "0       2012\n",
            "1       2012\n",
            "2       2012\n",
            "3       2012\n",
            "4       2012\n",
            "        ... \n",
            "7857    2012\n",
            "7858    2012\n",
            "7859    2012\n",
            "7860    2012\n",
            "7861    2012\n",
            "Name: YEAR, Length: 7862, dtype: int64\n",
            "0       2013\n",
            "1       2013\n",
            "2       2013\n",
            "3       2013\n",
            "4       2013\n",
            "        ... \n",
            "7864    2013\n",
            "7865    2013\n",
            "7866    2013\n",
            "7867    2013\n",
            "7868    2013\n",
            "Name: YEAR, Length: 7869, dtype: int64\n",
            "0       2014\n",
            "1       2014\n",
            "2       2014\n",
            "3       2014\n",
            "4       2014\n",
            "        ... \n",
            "7761    2014\n",
            "7762    2014\n",
            "7763    2014\n",
            "7764    2014\n",
            "7765    2014\n",
            "Name: YEAR, Length: 7766, dtype: int64\n",
            "0       2015\n",
            "1       2015\n",
            "2       2015\n",
            "3       2015\n",
            "4       2015\n",
            "        ... \n",
            "7661    2015\n",
            "7662    2015\n",
            "7663    2015\n",
            "7664    2015\n",
            "7665    2015\n",
            "Name: YEAR, Length: 7666, dtype: int64\n",
            "0       2016\n",
            "1       2016\n",
            "2       2016\n",
            "3       2016\n",
            "4       2016\n",
            "        ... \n",
            "7233    2016\n",
            "7234    2016\n",
            "7235    2016\n",
            "7236    2016\n",
            "7237    2016\n",
            "Name: YEAR, Length: 7238, dtype: int64\n",
            "0       2017\n",
            "1       2017\n",
            "2       2017\n",
            "3       2017\n",
            "4       2017\n",
            "        ... \n",
            "7107    2017\n",
            "7108    2017\n",
            "7109    2017\n",
            "7110    2017\n",
            "7111    2017\n",
            "Name: YEAR, Length: 7112, dtype: int64\n",
            "0       2018\n",
            "1       2018\n",
            "2       2018\n",
            "3       2018\n",
            "4       2018\n",
            "        ... \n",
            "6801    2018\n",
            "6802    2018\n",
            "6803    2018\n",
            "6804    2018\n",
            "6805    2018\n",
            "Name: YEAR, Length: 6806, dtype: int64\n"
          ],
          "name": "stdout"
        }
      ]
    },
    {
      "cell_type": "code",
      "metadata": {
        "id": "EiTZgqZ84QIO"
      },
      "source": [
        "# You would use an empty list and append the yearly dataframes to the list.\n",
        "# After all data files are loaded and appended to the list, you would use Pandas to concatenate them into a \n",
        "# new single data frame.\n",
        "# Note: this exercise incorporates many techques we learned before\n",
        "# - list (creating an empty, append an item to the list)\n",
        "# - for loop \n",
        "# - read only the needed columns from a file (using usecols option)\n",
        "# - add a new column to a data frame\n",
        "# - concatenate multiple dataframes into a single one\n",
        "df = pd.DataFrame() \n",
        "\n",
        "for x in data_list:\n",
        "  df = pd.concat([df, list_of_dfs[x]])"
      ],
      "execution_count": null,
      "outputs": []
    },
    {
      "cell_type": "code",
      "metadata": {
        "id": "8Bicqe5Ll6DN",
        "outputId": "a13f2b78-a517-4409-c3de-babc9d030a8a",
        "colab": {
          "base_uri": "https://localhost:8080/",
          "height": 1000
        }
      },
      "source": [
        "# explore the new dataframe (# of observations, varibles, head, tail, sample, missing values, statistics,etc.)\n",
        "\n",
        "print(df.head())\n",
        "print(df.tail())\n",
        "print(\"Number of rows, columns:\" , df.shape)\n",
        "print(df[\"YEAR\"].describe())\n",
        "print(df[\"UNITID\"].describe())\n",
        "print(df[\"INSTNM\"].describe())\n",
        "print(df[\"STABBR\"].describe())\n",
        "print(df[\"REGION\"].describe())\n",
        "print(df[\"ADM_RATE\"].describe())\n",
        "print(df[\"TUITIONFEE_IN\"].describe())"
      ],
      "execution_count": null,
      "outputs": [
        {
          "output_type": "stream",
          "text": [
            "   UNITID                                  INSTNM  ... TUITIONFEE_IN  YEAR\n",
            "0  100636      Community College of the Air Force  ...           NaN  1996\n",
            "1  100654                Alabama A & M University  ...           NaN  1996\n",
            "2  100663     University of Alabama at Birmingham  ...           NaN  1996\n",
            "3  100672  ALABAMA AVIATION AND TECHNICAL COLLEGE  ...           NaN  1996\n",
            "4  100690                      Amridge University  ...           NaN  1996\n",
            "\n",
            "[5 rows x 7 columns]\n",
            "        UNITID                                    INSTNM  ... TUITIONFEE_IN  YEAR\n",
            "6801  48511112         Georgia Military College - Dublin  ...        6120.0  2018\n",
            "6802  48511113        Georgia Military College - Eastman  ...        6120.0  2018\n",
            "6803  48616901  American College of Barbering - Florence  ...           NaN  2018\n",
            "6804  49005401      HCI College - Fort Lauderdale Campus  ...       21420.0  2018\n",
            "6805  49146401          ABC Adult School - Cabrillo Lane  ...           NaN  2018\n",
            "\n",
            "[5 rows x 7 columns]\n",
            "Number of rows, columns: (163331, 7)\n",
            "count    163331.000000\n",
            "mean       2007.249481\n",
            "std           6.608266\n",
            "min        1996.000000\n",
            "25%        2002.000000\n",
            "50%        2008.000000\n",
            "75%        2013.000000\n",
            "max        2018.000000\n",
            "Name: YEAR, dtype: float64\n",
            "count    1.633310e+05\n",
            "mean     9.432395e+05\n",
            "std      4.571721e+06\n",
            "min      1.006360e+05\n",
            "25%      1.633380e+05\n",
            "50%      2.127800e+05\n",
            "75%      4.075680e+05\n",
            "max      4.914640e+07\n",
            "Name: UNITID, dtype: float64\n",
            "count                         163331\n",
            "unique                         11094\n",
            "top       Marinello School of Beauty\n",
            "freq                             133\n",
            "Name: INSTNM, dtype: object\n",
            "count     163331\n",
            "unique        59\n",
            "top           CA\n",
            "freq       16193\n",
            "Name: STABBR, dtype: object\n",
            "count    163330.000000\n",
            "mean          4.554693\n",
            "std           2.189217\n",
            "min           0.000000\n",
            "25%           3.000000\n",
            "50%           5.000000\n",
            "75%           6.000000\n",
            "max           9.000000\n",
            "Name: REGION, dtype: float64\n",
            "count    44911.000000\n",
            "mean         0.692946\n",
            "std          0.217062\n",
            "min          0.000000\n",
            "25%          0.555000\n",
            "50%          0.717500\n",
            "75%          0.857100\n",
            "max          1.000000\n",
            "Name: ADM_RATE, dtype: float64\n",
            "count    79194.000000\n",
            "mean     11665.505367\n",
            "std       9985.998016\n",
            "min          0.000000\n",
            "25%       3776.000000\n",
            "50%       9285.000000\n",
            "75%      16146.000000\n",
            "max      74787.000000\n",
            "Name: TUITIONFEE_IN, dtype: float64\n"
          ],
          "name": "stdout"
        }
      ]
    },
    {
      "cell_type": "code",
      "metadata": {
        "id": "pPhzYQC0l6LR",
        "outputId": "b8cba0a4-9e6e-4419-dce6-a2a4dc86e983",
        "colab": {
          "base_uri": "https://localhost:8080/",
          "height": 468
        }
      },
      "source": [
        "# the dataframe contains many years of data of all U.S. colleges.\n",
        "# let's just look at UMBC\n",
        "# filter/query the dataframe to retrieve only rows that belong to UMBC\n",
        "# save the UMNC data to a new data frame. using a new variable \n",
        "# so that the old big data frame is still available for later use.\n",
        "\n",
        "valUMBC = df[df[\"INSTNM\"].str.contains(\"University of Maryland-Baltimore County\")]\n",
        "print(valUMBC)"
      ],
      "execution_count": null,
      "outputs": [
        {
          "output_type": "stream",
          "text": [
            "      UNITID                                   INSTNM  ... TUITIONFEE_IN  YEAR\n",
            "2151  163268  University of Maryland-Baltimore County  ...           NaN  1996\n",
            "2049  163268  University of Maryland-Baltimore County  ...           NaN  1997\n",
            "1982  163268  University of Maryland-Baltimore County  ...           NaN  1998\n",
            "1955  163268  University of Maryland-Baltimore County  ...           NaN  1999\n",
            "1926  163268  University of Maryland-Baltimore County  ...        5490.0  2000\n",
            "1915  163268  University of Maryland-Baltimore County  ...        5910.0  2001\n",
            "1893  163268  University of Maryland-Baltimore County  ...        6362.0  2002\n",
            "1873  163268  University of Maryland-Baltimore County  ...        7388.0  2003\n",
            "1830  163268  University of Maryland-Baltimore County  ...        8020.0  2004\n",
            "1819  163268  University of Maryland-Baltimore County  ...        8520.0  2005\n",
            "1799  163268  University of Maryland-Baltimore County  ...        8622.0  2006\n",
            "1779  163268  University of Maryland-Baltimore County  ...        8708.0  2007\n",
            "1767  163268  University of Maryland-Baltimore County  ...        8780.0  2008\n",
            "1745  163268  University of Maryland-Baltimore County  ...        8872.0  2009\n",
            "1710  163268  University of Maryland-Baltimore County  ...        9171.0  2010\n",
            "1694  163268  University of Maryland-Baltimore County  ...        9467.0  2011\n",
            "1660  163268  University of Maryland-Baltimore County  ...        9764.0  2012\n",
            "1629  163268  University of Maryland-Baltimore County  ...       10068.0  2013\n",
            "1610  163268  University of Maryland-Baltimore County  ...       10384.0  2014\n",
            "1555  163268  University of Maryland-Baltimore County  ...       11006.0  2015\n",
            "1510  163268  University of Maryland-Baltimore County  ...       11264.0  2016\n",
            "1478  163268  University of Maryland-Baltimore County  ...       11518.0  2017\n",
            "1415  163268  University of Maryland-Baltimore County  ...       11778.0  2018\n",
            "\n",
            "[23 rows x 7 columns]\n"
          ],
          "name": "stdout"
        }
      ]
    },
    {
      "cell_type": "code",
      "metadata": {
        "id": "QzKTbVhrl6Qf",
        "outputId": "69a5ac00-7dae-4b39-e5af-b4c3ff9b3fcf",
        "colab": {
          "base_uri": "https://localhost:8080/",
          "height": 1000
        }
      },
      "source": [
        "# Explore this UMBC dataframe (# of observations, varibles, head, tail, sample, missing values, statistics,etc.)\n",
        "\n",
        "print(valUMBC.head())\n",
        "print(valUMBC.tail())\n",
        "print(\"Number of rows, columns:\" , valUMBC.shape)\n",
        "print(valUMBC[\"YEAR\"].describe())\n",
        "print(valUMBC[\"UNITID\"].describe())\n",
        "print(valUMBC[\"INSTNM\"].describe())\n",
        "print(valUMBC[\"STABBR\"].describe())\n",
        "print(valUMBC[\"REGION\"].describe())\n",
        "print(valUMBC[\"ADM_RATE\"].describe())\n",
        "print(valUMBC[\"TUITIONFEE_IN\"].describe())"
      ],
      "execution_count": null,
      "outputs": [
        {
          "output_type": "stream",
          "text": [
            "      UNITID                                   INSTNM  ... TUITIONFEE_IN  YEAR\n",
            "2151  163268  University of Maryland-Baltimore County  ...           NaN  1996\n",
            "2049  163268  University of Maryland-Baltimore County  ...           NaN  1997\n",
            "1982  163268  University of Maryland-Baltimore County  ...           NaN  1998\n",
            "1955  163268  University of Maryland-Baltimore County  ...           NaN  1999\n",
            "1926  163268  University of Maryland-Baltimore County  ...        5490.0  2000\n",
            "\n",
            "[5 rows x 7 columns]\n",
            "      UNITID                                   INSTNM  ... TUITIONFEE_IN  YEAR\n",
            "1610  163268  University of Maryland-Baltimore County  ...       10384.0  2014\n",
            "1555  163268  University of Maryland-Baltimore County  ...       11006.0  2015\n",
            "1510  163268  University of Maryland-Baltimore County  ...       11264.0  2016\n",
            "1478  163268  University of Maryland-Baltimore County  ...       11518.0  2017\n",
            "1415  163268  University of Maryland-Baltimore County  ...       11778.0  2018\n",
            "\n",
            "[5 rows x 7 columns]\n",
            "Number of rows, columns: (23, 7)\n",
            "count      23.00000\n",
            "mean     2007.00000\n",
            "std         6.78233\n",
            "min      1996.00000\n",
            "25%      2001.50000\n",
            "50%      2007.00000\n",
            "75%      2012.50000\n",
            "max      2018.00000\n",
            "Name: YEAR, dtype: float64\n",
            "count        23.0\n",
            "mean     163268.0\n",
            "std           0.0\n",
            "min      163268.0\n",
            "25%      163268.0\n",
            "50%      163268.0\n",
            "75%      163268.0\n",
            "max      163268.0\n",
            "Name: UNITID, dtype: float64\n",
            "count                                          23\n",
            "unique                                          1\n",
            "top       University of Maryland-Baltimore County\n",
            "freq                                           23\n",
            "Name: INSTNM, dtype: object\n",
            "count     23\n",
            "unique     1\n",
            "top       MD\n",
            "freq      23\n",
            "Name: STABBR, dtype: object\n",
            "count    23.0\n",
            "mean      2.0\n",
            "std       0.0\n",
            "min       2.0\n",
            "25%       2.0\n",
            "50%       2.0\n",
            "75%       2.0\n",
            "max       2.0\n",
            "Name: REGION, dtype: float64\n",
            "count    18.000000\n",
            "mean      0.640694\n",
            "std       0.052728\n",
            "min       0.568300\n",
            "25%       0.597600\n",
            "50%       0.632100\n",
            "75%       0.689375\n",
            "max       0.717400\n",
            "Name: ADM_RATE, dtype: float64\n",
            "count       19.000000\n",
            "mean      9004.842105\n",
            "std       1825.795421\n",
            "min       5490.000000\n",
            "25%       8270.000000\n",
            "50%       8872.000000\n",
            "75%      10226.000000\n",
            "max      11778.000000\n",
            "Name: TUITIONFEE_IN, dtype: float64\n"
          ],
          "name": "stdout"
        }
      ]
    },
    {
      "cell_type": "code",
      "metadata": {
        "id": "g5XUFgOal6TJ",
        "outputId": "5df7bc22-7ff0-41d5-d32a-76a8f1a194bf",
        "colab": {
          "base_uri": "https://localhost:8080/",
          "height": 299
        }
      },
      "source": [
        "# Plot UMBC's in-state tution overtime from 1996 to 2019 using Bar Chart\n",
        "\n",
        "fig, ax = plt.subplots()\n",
        "\n",
        "ax.bar(valUMBC[\"YEAR\"],valUMBC[\"TUITIONFEE_IN\"])\n",
        "ax.set_title('UMBC In-State Tuition', color = 'white')\n",
        "ax.set_xlabel('Year',fontsize=14)\n",
        "ax.set_ylabel('$ USD',fontsize=14)\n",
        "ax.grid(True)"
      ],
      "execution_count": null,
      "outputs": [
        {
          "output_type": "display_data",
          "data": {
            "image/png": "[encoded data removed]",
            "text/plain": [
              "<Figure size 432x288 with 1 Axes>"
            ]
          },
          "metadata": {
            "tags": [],
            "needs_background": "light"
          }
        }
      ]
    },
    {
      "cell_type": "code",
      "metadata": {
        "id": "ddx_FzJjl6WG",
        "outputId": "7f1fb5b6-ae9b-4931-9e59-05622d08aa26",
        "colab": {
          "base_uri": "https://localhost:8080/",
          "height": 295
        }
      },
      "source": [
        "# Plot UMBC's in-state tution overtime from 1996 to 2019 using Line Chart\n",
        "\n",
        "plt.plot(valUMBC[\"YEAR\"],valUMBC[\"TUITIONFEE_IN\"])\n",
        "plt.title('UMBC In-State Tuition',color='white')\n",
        "plt.xlabel('Year')\n",
        "plt.ylabel('$ USD')\n",
        "plt.show()"
      ],
      "execution_count": null,
      "outputs": [
        {
          "output_type": "display_data",
          "data": {
            "image/png": "[encoded data removed]",
            "text/plain": [
              "<Figure size 432x288 with 1 Axes>"
            ]
          },
          "metadata": {
            "tags": [],
            "needs_background": "light"
          }
        }
      ]
    },
    {
      "cell_type": "code",
      "metadata": {
        "id": "x_bJ2_WNmQg7",
        "outputId": "a175fca0-bf96-4361-ada8-c569d38e0e3e",
        "colab": {
          "base_uri": "https://localhost:8080/",
          "height": 433
        }
      },
      "source": [
        "# Now let's look at the tuition growth rate year over year\n",
        "# We need to calculate UMBC tuition change percentage each year\n",
        "# First convert the TUITIONFEE_IN column to a Python List\n",
        "\n",
        "TuitionList = [valUMBC[\"TUITIONFEE_IN\"]]\n",
        "print(TuitionList)"
      ],
      "execution_count": null,
      "outputs": [
        {
          "output_type": "stream",
          "text": [
            "[2151        NaN\n",
            "2049        NaN\n",
            "1982        NaN\n",
            "1955        NaN\n",
            "1926     5490.0\n",
            "1915     5910.0\n",
            "1893     6362.0\n",
            "1873     7388.0\n",
            "1830     8020.0\n",
            "1819     8520.0\n",
            "1799     8622.0\n",
            "1779     8708.0\n",
            "1767     8780.0\n",
            "1745     8872.0\n",
            "1710     9171.0\n",
            "1694     9467.0\n",
            "1660     9764.0\n",
            "1629    10068.0\n",
            "1610    10384.0\n",
            "1555    11006.0\n",
            "1510    11264.0\n",
            "1478    11518.0\n",
            "1415    11778.0\n",
            "Name: TUITIONFEE_IN, dtype: float64]\n"
          ],
          "name": "stdout"
        }
      ]
    },
    {
      "cell_type": "code",
      "metadata": {
        "id": "ZxWq3FvMmQov",
        "outputId": "15fd6ecf-8478-4084-fa66-1d6651028afa",
        "colab": {
          "base_uri": "https://localhost:8080/",
          "height": 55
        }
      },
      "source": [
        "# Loop through the list and calculate the % change each year over the prior year\n",
        "# This takes some effort. Not hard, just some abstract/logical thinking and some experiments\n",
        "# Have fun on this one\n",
        "PercentChange = []\n",
        "for x in range(0,22):\n",
        "  cal = (((TuitionList[0].iloc[x+1]-TuitionList[0].iloc[x]) / TuitionList[0].iloc[x]) * 100)\n",
        "  PercentChange.append(cal)\n",
        "  \n",
        "print(PercentChange)"
      ],
      "execution_count": null,
      "outputs": [
        {
          "output_type": "stream",
          "text": [
            "[nan, nan, nan, nan, 7.650273224043716, 7.648054145516074, 16.12700408676517, 8.554412560909583, 6.234413965087282, 1.1971830985915493, 0.9974483878450475, 0.8268259072117593, 1.0478359908883828, 3.370153291253381, 3.227565151019518, 3.1372134783986483, 3.11347808275297, 3.1386571315057608, 5.989984591679507, 2.344175904052335, 2.254971590909091, 2.2573363431151243]\n"
          ],
          "name": "stdout"
        }
      ]
    },
    {
      "cell_type": "code",
      "metadata": {
        "id": "oi441lMtmQru",
        "outputId": "e98ff8b1-12db-433a-89f4-1f81030e156e",
        "colab": {
          "base_uri": "https://localhost:8080/",
          "height": 55
        }
      },
      "source": [
        "# The resulting number has many decimal points which are unnecessary and not visually appealing.\n",
        "# Round up the percentage to two decimal points\n",
        "# You can use for loop. Or better, use list comprehension for simplicity/brevity\n",
        "\n",
        "for x in range(0,22):\n",
        "  PercentChange[x] = round(PercentChange[x],2)\n",
        "print(PercentChange)"
      ],
      "execution_count": null,
      "outputs": [
        {
          "output_type": "stream",
          "text": [
            "[nan, nan, nan, nan, 7.65, 7.65, 16.13, 8.55, 6.23, 1.2, 1.0, 0.83, 1.05, 3.37, 3.23, 3.14, 3.11, 3.14, 5.99, 2.34, 2.25, 2.26]\n"
          ],
          "name": "stdout"
        }
      ]
    },
    {
      "cell_type": "code",
      "metadata": {
        "id": "-QEBvRFhmQun",
        "outputId": "60a96d29-7859-44dc-99fb-35b7cbb8c884",
        "colab": {
          "base_uri": "https://localhost:8080/",
          "height": 557
        }
      },
      "source": [
        "# Add the list of the percentages to the dataframe as a new column (\"PCT_CHANGE\")\n",
        "# Not as hard as you may think. If you get stuck, you think too hard. \n",
        "# Google it and you will find the answer.\n",
        "# PercentChange = [0] + PercentChange\n",
        "#PercentChange = PercentChange[1:]\n",
        "#print(PercentChange)\n",
        "valUMBC[\"PCT_CHANGE\"] = PercentChange\n",
        "print(valUMBC[\"PCT_CHANGE\"])"
      ],
      "execution_count": 203,
      "outputs": [
        {
          "output_type": "stream",
          "text": [
            "2151     0.00\n",
            "2049      NaN\n",
            "1982      NaN\n",
            "1955      NaN\n",
            "1926      NaN\n",
            "1915     7.65\n",
            "1893     7.65\n",
            "1873    16.13\n",
            "1830     8.55\n",
            "1819     6.23\n",
            "1799     1.20\n",
            "1779     1.00\n",
            "1767     0.83\n",
            "1745     1.05\n",
            "1710     3.37\n",
            "1694     3.23\n",
            "1660     3.14\n",
            "1629     3.11\n",
            "1610     3.14\n",
            "1555     5.99\n",
            "1510     2.34\n",
            "1478     2.25\n",
            "1415     2.26\n",
            "Name: PCT_CHANGE, dtype: float64\n"
          ],
          "name": "stdout"
        },
        {
          "output_type": "stream",
          "text": [
            "/usr/local/lib/python3.6/dist-packages/ipykernel_launcher.py:7: SettingWithCopyWarning: \n",
            "A value is trying to be set on a copy of a slice from a DataFrame.\n",
            "Try using .loc[row_indexer,col_indexer] = value instead\n",
            "\n",
            "See the caveats in the documentation: https://pandas.pydata.org/pandas-docs/stable/user_guide/indexing.html#returning-a-view-versus-a-copy\n",
            "  import sys\n"
          ],
          "name": "stderr"
        }
      ]
    },
    {
      "cell_type": "code",
      "metadata": {
        "id": "n-whoI9cmQxp",
        "outputId": "708594f9-a5bc-4290-85f9-13ce40e1ba37",
        "colab": {
          "base_uri": "https://localhost:8080/",
          "height": 621
        }
      },
      "source": [
        "# Finaly, we can make the plot tuition growth rate year over year - bar first, then line chart\n",
        "\n",
        "fig, (ax1, ax2) = plt.subplots(2, 1)\n",
        "fig.set_size_inches(4,10)\n",
        "\n",
        "ax1.bar(valUMBC[\"YEAR\"],valUMBC[\"PCT_CHANGE\"])\n",
        "ax1.set_title('UMBC In-State Tuition Percent Change', color = 'white')\n",
        "ax1.set_xlabel('Year')\n",
        "ax1.set_ylabel('% Change')\n",
        "ax1.grid(True)\n",
        "\n",
        "ax2.plot(valUMBC[\"YEAR\"],valUMBC[\"PCT_CHANGE\"])\n",
        "plt.title('UMBC In-State Tuition Percent Change',color='white')\n",
        "plt.xlabel('Year')\n",
        "plt.ylabel('% Change')\n",
        "plt.show()"
      ],
      "execution_count": 204,
      "outputs": [
        {
          "output_type": "display_data",
          "data": {
            "image/png": "[encoded data removed]",
            "text/plain": [
              "<Figure size 288x720 with 2 Axes>"
            ]
          },
          "metadata": {
            "tags": [],
            "needs_background": "light"
          }
        }
      ]
    },
    {
      "cell_type": "code",
      "metadata": {
        "id": "zmKSZKCTmkAZ",
        "outputId": "95c99bb8-9113-43bf-9f2b-b51827482f68",
        "colab": {
          "base_uri": "https://localhost:8080/",
          "height": 468
        }
      },
      "source": [
        "# the dataframe contains many years of data of all U.S. colleges.\n",
        "# let's just look at JHU\n",
        "# filter/query the dataframe to retrieve only rows that belong to JHU\n",
        "# save the JHU data to a new data frame. using a new variable \n",
        "# so that the old big data frame is still available for later use.\n",
        "\n",
        "valJHU = df[df[\"INSTNM\"].str.contains(\"Johns Hopkins University\")]\n",
        "print(valJHU)"
      ],
      "execution_count": null,
      "outputs": [
        {
          "output_type": "stream",
          "text": [
            "      UNITID                    INSTNM STABBR  ...  ADM_RATE  TUITIONFEE_IN  YEAR\n",
            "2139  162928  Johns Hopkins University     MD  ...       NaN            NaN  1996\n",
            "2039  162928  Johns Hopkins University     MD  ...       NaN            NaN  1997\n",
            "1973  162928  Johns Hopkins University     MD  ...       NaN            NaN  1998\n",
            "1946  162928  Johns Hopkins University     MD  ...       NaN            NaN  1999\n",
            "1917  162928  Johns Hopkins University     MD  ...       NaN        24930.0  2000\n",
            "1906  162928  Johns Hopkins University     MD  ...    0.3431        26210.0  2001\n",
            "1884  162928  Johns Hopkins University     MD  ...    0.3506        27390.0  2002\n",
            "1865  162928  Johns Hopkins University     MD  ...    0.3060        28730.0  2003\n",
            "1823  162928  Johns Hopkins University     MD  ...    0.3071        30140.0  2004\n",
            "1812  162928  Johns Hopkins University     MD  ...    0.3509        31620.0  2005\n",
            "1792  162928  Johns Hopkins University     MD  ...    0.2792        33900.0  2006\n",
            "1772  162928  Johns Hopkins University     MD  ...    0.2571        35900.0  2007\n",
            "1760  162928  Johns Hopkins University     MD  ...    0.2609        37700.0  2008\n",
            "1738  162928  Johns Hopkins University     MD  ...    0.2782        39150.0  2009\n",
            "1703  162928  Johns Hopkins University     MD  ...    0.2225        40680.0  2010\n",
            "1687  162928  Johns Hopkins University     MD  ...    0.1940        42280.0  2011\n",
            "1653  162928  Johns Hopkins University     MD  ...    0.1843        43390.0  2012\n",
            "1622  162928  Johns Hopkins University     MD  ...    0.1813        45470.0  2013\n",
            "1603  162928  Johns Hopkins University     MD  ...    0.1608        47060.0  2014\n",
            "1548  162928  Johns Hopkins University     MD  ...    0.1412        48710.0  2015\n",
            "1503  162928  Johns Hopkins University     MD  ...    0.1284        50410.0  2016\n",
            "1473  162928  Johns Hopkins University     MD  ...    0.1254        52170.0  2017\n",
            "1410  162928  Johns Hopkins University     MD  ...    0.1148        53740.0  2018\n",
            "\n",
            "[23 rows x 7 columns]\n"
          ],
          "name": "stdout"
        }
      ]
    },
    {
      "cell_type": "code",
      "metadata": {
        "id": "1XS10VTBmj8l"
      },
      "source": [
        "# Since we want to do the same calculation for JHU. \n",
        "# Instead of doing it piecemeal as we did for UMBC\n",
        "# Let's create a function which can be reused for any college.\n",
        "# This function takes a list of tuitions and return a list of percentage changes year over year\n",
        "# This function can be used later \n",
        "\n",
        "def PercentFunction(mylist):\n",
        "  PctChg = []\n",
        "  for x in range(0,22): #this part calculates percent change\n",
        "    calc = (((mylist[x+1]-mylist[x]) / mylist[x]) * 100)\n",
        "    PctChg.append(calc)\n",
        "\n",
        "\n",
        "  for x in range(0,22): #this part rounds the decimal\n",
        "   PctChg[x] = round(PctChg[x],2)\n",
        "\n",
        "  return PctChg"
      ],
      "execution_count": 195,
      "outputs": []
    },
    {
      "cell_type": "code",
      "metadata": {
        "id": "cJAst4GFmqvb",
        "outputId": "6fd66de9-0a65-4965-f357-55a64b288079",
        "colab": {
          "base_uri": "https://localhost:8080/",
          "height": 295
        }
      },
      "source": [
        "# Plot JHU's in-state tuition overtime from 1996 to 2019. \n",
        "# Let's plot bar and line chart together\n",
        "\n",
        "fig, ax = plt.subplots()\n",
        "\n",
        "ax.bar(valJHU[\"YEAR\"],valJHU[\"TUITIONFEE_IN\"])\n",
        "ax.set_title('JHU In-State Tuition', color = 'white')\n",
        "ax.set_xlabel('Year')\n",
        "ax.set_ylabel('$ USD')\n",
        "ax.grid(True)\n",
        "\n",
        "plt.plot(valJHU[\"YEAR\"],valJHU[\"TUITIONFEE_IN\"])\n",
        "plt.title('JHU In-State Tuition',color='white')\n",
        "plt.xlabel('Year')\n",
        "plt.ylabel('$ USD')\n",
        "plt.show()"
      ],
      "execution_count": null,
      "outputs": [
        {
          "output_type": "display_data",
          "data": {
            "image/png": "[encoded data removed]",
            "text/plain": [
              "<Figure size 432x288 with 1 Axes>"
            ]
          },
          "metadata": {
            "tags": [],
            "needs_background": "light"
          }
        }
      ]
    },
    {
      "cell_type": "code",
      "metadata": {
        "id": "k5I4B2m8mq_A",
        "outputId": "db83438f-b707-4b1f-b63a-2760856f34e7",
        "colab": {
          "base_uri": "https://localhost:8080/",
          "height": 55
        }
      },
      "source": [
        "# Let's calculate the JHU tuition percentge growth using the function defined earlier\n",
        "\n",
        "JHUtuition = valJHU[\"TUITIONFEE_IN\"]\n",
        "tuitionList = JHUtuition.values.tolist()\n",
        "testval = PercentFunction(tuitionList)\n",
        "print(testval)"
      ],
      "execution_count": 205,
      "outputs": [
        {
          "output_type": "stream",
          "text": [
            "[nan, nan, nan, nan, 5.13, 4.5, 4.89, 4.91, 4.91, 7.21, 5.9, 5.01, 3.85, 3.91, 3.93, 2.63, 4.79, 3.5, 3.51, 3.49, 3.49, 3.01]\n"
          ],
          "name": "stdout"
        }
      ]
    },
    {
      "cell_type": "code",
      "metadata": {
        "id": "l-pY4KYxmua3",
        "outputId": "0f98ebdd-038e-4482-f281-bcd2d6aaeccd",
        "colab": {
          "base_uri": "https://localhost:8080/",
          "height": 557
        }
      },
      "source": [
        "# Add the list of percentage changes to the dataframe as a new column (\"PCT_CHANGE\")\n",
        "\n",
        "#testval = [0] + testval\n",
        "valJHU[\"PCT_CHANGE\"] = testval\n",
        "print(valJHU[\"PCT_CHANGE\"])"
      ],
      "execution_count": 207,
      "outputs": [
        {
          "output_type": "stream",
          "text": [
            "2139    0.00\n",
            "2039     NaN\n",
            "1973     NaN\n",
            "1946     NaN\n",
            "1917     NaN\n",
            "1906    5.13\n",
            "1884    4.50\n",
            "1865    4.89\n",
            "1823    4.91\n",
            "1812    4.91\n",
            "1792    7.21\n",
            "1772    5.90\n",
            "1760    5.01\n",
            "1738    3.85\n",
            "1703    3.91\n",
            "1687    3.93\n",
            "1653    2.63\n",
            "1622    4.79\n",
            "1603    3.50\n",
            "1548    3.51\n",
            "1503    3.49\n",
            "1473    3.49\n",
            "1410    3.01\n",
            "Name: PCT_CHANGE, dtype: float64\n"
          ],
          "name": "stdout"
        },
        {
          "output_type": "stream",
          "text": [
            "/usr/local/lib/python3.6/dist-packages/ipykernel_launcher.py:4: SettingWithCopyWarning: \n",
            "A value is trying to be set on a copy of a slice from a DataFrame.\n",
            "Try using .loc[row_indexer,col_indexer] = value instead\n",
            "\n",
            "See the caveats in the documentation: https://pandas.pydata.org/pandas-docs/stable/user_guide/indexing.html#returning-a-view-versus-a-copy\n",
            "  after removing the cwd from sys.path.\n"
          ],
          "name": "stderr"
        }
      ]
    },
    {
      "cell_type": "code",
      "metadata": {
        "id": "vAYeataImufC",
        "outputId": "2550b16f-95b8-4772-b3ed-42661265239e",
        "colab": {
          "base_uri": "https://localhost:8080/",
          "height": 295
        }
      },
      "source": [
        "# Make a bar plot of the JHU percentage changes tuitions over time\n",
        "\n",
        "fig, ax = plt.subplots()\n",
        "\n",
        "ax.bar(valJHU[\"YEAR\"],valJHU[\"PCT_CHANGE\"])\n",
        "ax.set_title('JHU In-State Tuition Percent Change', color = 'white')\n",
        "ax.set_xlabel('Year')\n",
        "ax.set_ylabel('% Change')\n",
        "ax.grid(True)\n",
        "\n",
        "plt.plot(valJHU[\"YEAR\"],valJHU[\"PCT_CHANGE\"])\n",
        "plt.title('JHU In-State Tuition Percent Change',color='white')\n",
        "plt.xlabel('Year')\n",
        "plt.ylabel('% Change')\n",
        "plt.show()"
      ],
      "execution_count": 208,
      "outputs": [
        {
          "output_type": "display_data",
          "data": {
            "image/png": "[encoded data removed]",
            "text/plain": [
              "<Figure size 432x288 with 1 Axes>"
            ]
          },
          "metadata": {
            "tags": [],
            "needs_background": "light"
          }
        }
      ]
    },
    {
      "cell_type": "code",
      "metadata": {
        "id": "JDFWFy0Am1Dz"
      },
      "source": [
        "# In order to plot both UMBC and JHU tuition change over time in the same plot,\n",
        "# we need to combine the two datasets using the common key of YEAR \n",
        "# First make a umbc2 dataframe with only two columns needed. WE don't need other columns.\n",
        "# Also change the column name from \"PCT_CHANGE\" to \"UMBC_PCT\" in preparation for the merge.\n",
        "# This is because both umbc and jhu dataframe have the same column name \"PCT_CHANGE\",\n",
        "# We rename them to there is no collision during the merge. BTW, Pandas handles collision gracefully,\n",
        "# Feel free to try it without changing the column names.\n",
        "\n",
        "umbc2 = valUMBC[[\"YEAR\", \"PCT_CHANGE\"]]\n",
        "umbc2 = umbc2.rename(columns={\"PCT_CHANGE\":\"UMBC_PCT\"})\n",
        "umbc2 = umbc2.set_index(\"YEAR\")\n",
        "# print(umbc2)"
      ],
      "execution_count": 244,
      "outputs": []
    },
    {
      "cell_type": "code",
      "metadata": {
        "id": "_zVEr17xm1JD"
      },
      "source": [
        "# Then make a jhu2 dataframe with only two columns needed. WE don't need other columns.\n",
        "# Also change the column name from \"PCT_CHANGE\" to \"JHU_PCT\"  in preparation for the merge\n",
        "\n",
        "jhu2 = valJHU[[\"YEAR\", \"PCT_CHANGE\"]]\n",
        "jhu2 = jhu2.rename(columns={\"PCT_CHANGE\":\"JHU_PCT\"})\n",
        "jhu2 = jhu2.set_index(\"YEAR\")\n",
        "# print(jhu2)"
      ],
      "execution_count": 245,
      "outputs": []
    },
    {
      "cell_type": "code",
      "metadata": {
        "id": "UjAlPEyCm1OP"
      },
      "source": [
        "# Now, merger the two data frames\n",
        "# and display the new dataframe\n",
        "\n",
        "# jhu2.set_index(\"YEAR\")\n",
        "# umbc2.set_index(\"YEAR\")\n",
        "merged = pd.concat([umbc2, jhu2], axis=1)\n",
        "merged = merged.reset_index()\n",
        "# print(merged)"
      ],
      "execution_count": 263,
      "outputs": []
    },
    {
      "cell_type": "code",
      "metadata": {
        "id": "4AIny6uBm1MJ",
        "outputId": "d10aa67a-6ef4-4f23-de66-daf2e754a5f9",
        "colab": {
          "base_uri": "https://localhost:8080/",
          "height": 295
        }
      },
      "source": [
        "# Plot UMBC and JHU separately on the same plot \n",
        "# However, this does not work since the bars overlap.\n",
        "\n",
        "fig, ax = plt.subplots()\n",
        "# print(merged)\n",
        "ax.bar(merged[\"YEAR\"], merged['UMBC_PCT'])\n",
        "ax.bar(merged[\"YEAR\"], merged['JHU_PCT'])\n",
        "ax.set_title('JHU & UMBC In-State Tuition Percent Change', color = 'white')\n",
        "ax.set_xlabel('Year')\n",
        "ax.set_ylabel('% Change')\n",
        "ax.grid(True)\n",
        "plt.show()"
      ],
      "execution_count": 261,
      "outputs": [
        {
          "output_type": "display_data",
          "data": {
            "image/png": "[encoded data removed]",
            "text/plain": [
              "<Figure size 432x288 with 1 Axes>"
            ]
          },
          "metadata": {
            "tags": [],
            "needs_background": "light"
          }
        }
      ]
    },
    {
      "cell_type": "code",
      "metadata": {
        "id": "5U9DzRNlnAdN",
        "outputId": "178c7353-4524-45e2-deb9-183b973c14b0",
        "colab": {
          "base_uri": "https://localhost:8080/",
          "height": 404
        }
      },
      "source": [
        "# Plot them together using y=[\"UMBC_PCT\",\"JHU_PCT\"] option of bar plot\n",
        "\n",
        "fig, ax = plt.subplots()\n",
        "fig.set_size_inches(10,6)\n",
        "# print(merged)\n",
        "w = 0.2\n",
        "ax.bar(merged[\"YEAR\"]-w, merged['UMBC_PCT'], width=0.4)\n",
        "ax.bar(merged[\"YEAR\"]+w, merged['JHU_PCT'], width=0.4)\n",
        "ax.set_title('JHU & UMBC In-State Tuition Percent Change', color = 'white')\n",
        "ax.set_xlabel('Year')\n",
        "ax.set_ylabel('% Change')\n",
        "ax.grid(True)\n",
        "plt.show()"
      ],
      "execution_count": 262,
      "outputs": [
        {
          "output_type": "display_data",
          "data": {
            "image/png": "[encoded data removed]",
            "text/plain": [
              "<Figure size 720x432 with 1 Axes>"
            ]
          },
          "metadata": {
            "tags": [],
            "needs_background": "light"
          }
        }
      ]
    },
    {
      "cell_type": "code",
      "metadata": {
        "id": "JZdXTnlZnEqv",
        "outputId": "d41ccac0-e35d-4418-b6a3-fc2160e2a29f",
        "colab": {
          "base_uri": "https://localhost:8080/",
          "height": 404
        }
      },
      "source": [
        "# Plot them together using y=[\"UMBC_PCT\",\"JHU_PCT\"] option of line plot\n",
        "\n",
        "fig, ax = plt.subplots()\n",
        "fig.set_size_inches(10,6)\n",
        "\n",
        "plt.plot(merged[\"YEAR\"], merged[\"UMBC_PCT\"])\n",
        "plt.plot(merged[\"YEAR\"], merged[\"JHU_PCT\"])\n",
        "plt.title('JHU & UMBC In-State Tuition Percent Change',color='white')\n",
        "ax.grid(True)\n",
        "plt.xlabel('Year')\n",
        "plt.ylabel('% Change')\n",
        "plt.show()"
      ],
      "execution_count": 266,
      "outputs": [
        {
          "output_type": "display_data",
          "data": {
            "image/png": "[encoded data removed]",
            "text/plain": [
              "<Figure size 720x432 with 1 Axes>"
            ]
          },
          "metadata": {
            "tags": [],
            "needs_background": "light"
          }
        }
      ]
    },
    {
      "cell_type": "markdown",
      "metadata": {
        "id": "u1fk8lI2nIve"
      },
      "source": [
        "Based on my observation of the plots, JHU is much more expensive than UMBC.  However UMBC has had more radical percent changes in tuition than JHU.\n",
        "In conclusion, both schools have their merits."
      ]
    }
  ]
}
