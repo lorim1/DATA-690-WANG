{
  "nbformat": 4,
  "nbformat_minor": 0,
  "metadata": {
    "colab": {
      "name": "Deliverable_#1.ipynb",
      "provenance": [],
      "collapsed_sections": []
    },
    "kernelspec": {
      "name": "python3",
      "display_name": "Python 3"
    }
  },
  "cells": [
    {
      "cell_type": "markdown",
      "metadata": {
        "id": "Vj7J85bo9FUg"
      },
      "source": [
        "### **Deliverable #1 - Project Proposal in Markdown format** \n",
        "\n",
        "### *Questions:*\n",
        "\n",
        "1. What is your issue of interest (provide sufficient background information)?\n",
        "2. Why is this issue important to you and/or to others? \n",
        "3. What questions do you have in mind and wouyld like to answer?\n",
        "4. Where do you get the data to help answer your questions?\n",
        "5. What will be your unit of analysis (for example, patient, organization, or country)? Roughly how many units do you expect to analyze?\n",
        "6. What variables/measures do you plan to use in your analysis?\n",
        "7. What kinds of techniques do you you plan to use (for example, summary statistics, scatter plot, bar chart, chi-squared test)?\n",
        "\n",
        "### *Answers:*\n",
        "\n",
        "1. My issue of interest is COVID-19 cases that have occured in MD since the start of the pandemic in March 2020.\n",
        "2. This issue is important because COVID-19 has hit the US hard with over 200,000 deaths in the country so far and I want to explore who has been effected on a smaller, more local scale by COVID-19.  \n",
        "3. I would like to see what area of Maryland has been hit the hardest by COVId-19 and if there's any trends among age,race,gender on who contracts more cases of COVID-19 in MD.\n",
        "4. The Maryland.gov website has a MD COVID-19 tracker I can use to pull data from. Link: https://opendata.maryland.gov/Health-and-Human-Services/MD-COVID-19-MASTER-Case-Tracker/mgd3-qk8t\n",
        "5. My unit of analysis will be the amount of individuals with COVID-19 tracked on a day-to-day basis.  I expect to have thousands of cases for even just Maryland.\n",
        "6. I plan to measure the day-to-day change in the number of cases, deaths, etc of COVID-19 among different counties, genders, races, ages, etc.\n",
        "7. I plan to use summary statistics and lots of visualizations like bar charts, line charts, etc to reflect the information given."
      ]
    },
    {
      "cell_type": "code",
      "metadata": {
        "id": "lS7gXdVy9BFW"
      },
      "source": [
        ""
      ],
      "execution_count": null,
      "outputs": []
    }
  ]
}