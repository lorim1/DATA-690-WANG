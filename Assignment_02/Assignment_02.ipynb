{
 "cells": [
  {
   "cell_type": "markdown",
   "metadata": {},
   "source": [
    "### Prompts a user to enter 10 integers. \n",
    "\n",
    "### If the user enters anything other than integers, remind her that **only** integers are allowed and let her retry. *Don't allow* the user to enter more than 10 or less than 10 integers. Display the 10 integers back to the user at the end. Calculate the following statistics from the 10 integers entered:\n",
    "\n",
    "### Minimum\n",
    "### Maximum\n",
    "### Range\n",
    "### Mean\n",
    "### Variance\n",
    "### Standard Deviation"
   ]
  },
  {
   "cell_type": "code",
   "execution_count": 25,
   "metadata": {},
   "outputs": [
    {
     "name": "stdout",
     "output_type": "stream",
     "text": [
      "Please enter an integer: \n"
     ]
    },
    {
     "name": "stdin",
     "output_type": "stream",
     "text": [
      " 1\n"
     ]
    },
    {
     "name": "stdout",
     "output_type": "stream",
     "text": [
      "Please enter an integer: \n"
     ]
    },
    {
     "name": "stdin",
     "output_type": "stream",
     "text": [
      " 2\n"
     ]
    },
    {
     "name": "stdout",
     "output_type": "stream",
     "text": [
      "Please enter an integer: \n"
     ]
    },
    {
     "name": "stdin",
     "output_type": "stream",
     "text": [
      " 3\n"
     ]
    },
    {
     "name": "stdout",
     "output_type": "stream",
     "text": [
      "Please enter an integer: \n"
     ]
    },
    {
     "name": "stdin",
     "output_type": "stream",
     "text": [
      " 4\n"
     ]
    },
    {
     "name": "stdout",
     "output_type": "stream",
     "text": [
      "Please enter an integer: \n"
     ]
    },
    {
     "name": "stdin",
     "output_type": "stream",
     "text": [
      " 5\n"
     ]
    },
    {
     "name": "stdout",
     "output_type": "stream",
     "text": [
      "Please enter an integer: \n"
     ]
    },
    {
     "name": "stdin",
     "output_type": "stream",
     "text": [
      " 6\n"
     ]
    },
    {
     "name": "stdout",
     "output_type": "stream",
     "text": [
      "Please enter an integer: \n"
     ]
    },
    {
     "name": "stdin",
     "output_type": "stream",
     "text": [
      " 7\n"
     ]
    },
    {
     "name": "stdout",
     "output_type": "stream",
     "text": [
      "Please enter an integer: \n"
     ]
    },
    {
     "name": "stdin",
     "output_type": "stream",
     "text": [
      " 8\n"
     ]
    },
    {
     "name": "stdout",
     "output_type": "stream",
     "text": [
      "Please enter an integer: \n"
     ]
    },
    {
     "name": "stdin",
     "output_type": "stream",
     "text": [
      " 9\n"
     ]
    },
    {
     "name": "stdout",
     "output_type": "stream",
     "text": [
      "Please enter an integer: \n"
     ]
    },
    {
     "name": "stdin",
     "output_type": "stream",
     "text": [
      " 10\n"
     ]
    },
    {
     "name": "stdout",
     "output_type": "stream",
     "text": [
      "You gave the numbers: \n",
      "[1, 2, 3, 4, 5, 6, 7, 8, 9, 10]\n",
      "1\n"
     ]
    },
    {
     "ename": "TypeError",
     "evalue": "'int' object is not callable",
     "output_type": "error",
     "traceback": [
      "\u001b[0;31m---------------------------------------------------------------------------\u001b[0m",
      "\u001b[0;31mTypeError\u001b[0m                                 Traceback (most recent call last)",
      "\u001b[0;32m<ipython-input-25-7337fd1811e9>\u001b[0m in \u001b[0;36m<module>\u001b[0;34m\u001b[0m\n\u001b[1;32m     25\u001b[0m \u001b[0mminimum\u001b[0m \u001b[0;34m=\u001b[0m \u001b[0mnum_list\u001b[0m\u001b[0;34m[\u001b[0m\u001b[0;36m0\u001b[0m\u001b[0;34m]\u001b[0m\u001b[0;34m\u001b[0m\u001b[0;34m\u001b[0m\u001b[0m\n\u001b[1;32m     26\u001b[0m \u001b[0mprint\u001b[0m\u001b[0;34m(\u001b[0m\u001b[0mminimum\u001b[0m\u001b[0;34m)\u001b[0m\u001b[0;34m\u001b[0m\u001b[0;34m\u001b[0m\u001b[0m\n\u001b[0;32m---> 27\u001b[0;31m \u001b[0;32mfor\u001b[0m \u001b[0my\u001b[0m \u001b[0;32min\u001b[0m \u001b[0mrange\u001b[0m\u001b[0;34m(\u001b[0m\u001b[0;36m1\u001b[0m\u001b[0;34m,\u001b[0m \u001b[0;36m10\u001b[0m\u001b[0;34m)\u001b[0m\u001b[0;34m:\u001b[0m\u001b[0;34m\u001b[0m\u001b[0;34m\u001b[0m\u001b[0m\n\u001b[0m\u001b[1;32m     28\u001b[0m     \u001b[0;32mif\u001b[0m \u001b[0mnum_list\u001b[0m\u001b[0;34m[\u001b[0m\u001b[0my\u001b[0m\u001b[0;34m]\u001b[0m \u001b[0;34m<\u001b[0m \u001b[0mminimum\u001b[0m\u001b[0;34m:\u001b[0m\u001b[0;34m\u001b[0m\u001b[0;34m\u001b[0m\u001b[0m\n\u001b[1;32m     29\u001b[0m         \u001b[0mminimum\u001b[0m \u001b[0;34m=\u001b[0m \u001b[0mnum_list\u001b[0m\u001b[0;34m[\u001b[0m\u001b[0my\u001b[0m\u001b[0;34m]\u001b[0m\u001b[0;34m\u001b[0m\u001b[0;34m\u001b[0m\u001b[0m\n",
      "\u001b[0;31mTypeError\u001b[0m: 'int' object is not callable"
     ]
    }
   ],
   "source": [
    "## this part takes in the numbers given from the user. spits an error out if not given an integer.\n",
    "count = 0\n",
    "num_list = [0, 0, 0, 0, 0, 0, 0, 0, 0, 0]\n",
    "while count < 10:\n",
    "\n",
    "    print(\"Please enter an integer: \")\n",
    "    input0 = input()\n",
    "\n",
    "    try:\n",
    "        val0 = int(input0)\n",
    "        num_list[count] = val0\n",
    "        count = count + 1\n",
    "        \n",
    "    except ValueError:\n",
    "        print(\"That is not an integer. Please try again. \")\n",
    "\n",
    "\n",
    "#the program reminds you what integers you entered\n",
    "print (\"You gave the numbers: \")\n",
    "\n",
    "print(num_list)\n",
    "    \n",
    "    \n",
    "#finds the minimum number\n",
    "minimum = num_list[0]\n",
    "print(minimum)\n",
    "for y in range(1, 10):\n",
    "    if num_list[y] < minimum:\n",
    "        minimum = num_list[y]\n",
    "      \n",
    "print(\"The minimum is \")\n",
    "print (minimum)\n",
    "    \n",
    "#finds the maximum number\n",
    "maximum = num_list[0]\n",
    "\n",
    "for count2 in range(1,10):\n",
    "    if num_list[count2] > maximum:\n",
    "        maximum = num_list[count2]\n",
    "    count2 = count2 + 1  \n",
    "\n",
    "print (\"The maximum is \")\n",
    "print (maximum)\n",
    "\n",
    "#calculates the range\n",
    "range1 = maximum - minimum\n",
    "\n",
    "print (\"The range is \")\n",
    "print (range1)\n",
    "\n",
    "#calculates the mean\n",
    "sum = 0\n",
    "\n",
    "for count3 in range(0,10):\n",
    "    sum = sum + num_list[count3]\n",
    "    count3 = count3 + 1\n",
    "\n",
    "mean = sum / 10\n",
    "    \n",
    "print (\"The mean is \")\n",
    "print (mean)\n",
    "\n",
    "#calculates the variance\n",
    "sum1 = 0\n",
    "\n",
    "for count4 in range(0,10):\n",
    "    var = (num_list[count4]-mean)**2\n",
    "    sum1 = sum1 + var\n",
    "    count4 = count4 + 1\n",
    "    \n",
    "variance = sum1 / 9\n",
    "\n",
    "print (\"The variance is \") \n",
    "print (variance)\n",
    "\n",
    "#calculates the standard deviation\n",
    "sum2 = 0\n",
    "\n",
    "for count5 in range(0,10):\n",
    "    var1 = (num_list[count5]-mean)**2\n",
    "    sum2 = sum2 + var1\n",
    "    count5 = count5 + 1\n",
    "    \n",
    "stan_dev = (sum2 / 10)**(1/2)\n",
    "\n",
    "print (\"The standard deviation is \")\n",
    "print (stan_dev)\n",
    "\n",
    "print (\"All done! :)\")"
   ]
  },
  {
   "cell_type": "code",
   "execution_count": null,
   "metadata": {},
   "outputs": [],
   "source": [
    " "
   ]
  },
  {
   "cell_type": "code",
   "execution_count": null,
   "metadata": {},
   "outputs": [],
   "source": []
  }
 ],
 "metadata": {
  "kernelspec": {
   "display_name": "Python 3",
   "language": "python",
   "name": "python3"
  },
  "language_info": {
   "codemirror_mode": {
    "name": "ipython",
    "version": 3
   },
   "file_extension": ".py",
   "mimetype": "text/x-python",
   "name": "python",
   "nbconvert_exporter": "python",
   "pygments_lexer": "ipython3",
   "version": "3.8.1"
  }
 },
 "nbformat": 4,
 "nbformat_minor": 4
}
