{
  "nbformat": 4,
  "nbformat_minor": 0,
  "metadata": {
    "colab": {
      "name": "Assignment_06.ipynb",
      "provenance": [],
      "collapsed_sections": []
    },
    "kernelspec": {
      "name": "python3",
      "display_name": "Python 3"
    }
  },
  "cells": [
    {
      "cell_type": "code",
      "metadata": {
        "id": "qAkTtYddIOlH",
        "outputId": "5e75bf62-e3af-437a-c382-44881df191ec",
        "colab": {
          "base_uri": "https://localhost:8080/",
          "height": 35
        }
      },
      "source": [
        "#repeat of assignment 4 except with pandas\n",
        "\n",
        "#importing all necessary functions\n",
        "import pandas as pd\n",
        "import numpy as np\n",
        "\n",
        "#saving the html data\n",
        "census_data = pd.read_html(\"https://www.genealogybranches.com/censuscosts.html\", thousands=',')\n",
        "\n",
        "#finding some information out about the data\n",
        "print (\"This is the number of data sets the html has:\" , len(census_data))"
      ],
      "execution_count": 64,
      "outputs": [
        {
          "output_type": "stream",
          "text": [
            "This is the number of data sets the html has: 2\n"
          ],
          "name": "stdout"
        }
      ]
    },
    {
      "cell_type": "code",
      "metadata": {
        "id": "W0-uAKGZNdN_",
        "outputId": "3af2cb9d-0084-4820-d3fe-bb258aadaba8",
        "colab": {
          "base_uri": "https://localhost:8080/",
          "height": 202
        }
      },
      "source": [
        "#sorts the 2 dataframes \n",
        "df = census_data[0]\n",
        "df.head()"
      ],
      "execution_count": 65,
      "outputs": [
        {
          "output_type": "execute_result",
          "data": {
            "text/html": [
              "<div>\n",
              "<style scoped>\n",
              "    .dataframe tbody tr th:only-of-type {\n",
              "        vertical-align: middle;\n",
              "    }\n",
              "\n",
              "    .dataframe tbody tr th {\n",
              "        vertical-align: top;\n",
              "    }\n",
              "\n",
              "    .dataframe thead th {\n",
              "        text-align: right;\n",
              "    }\n",
              "</style>\n",
              "<table border=\"1\" class=\"dataframe\">\n",
              "  <thead>\n",
              "    <tr style=\"text-align: right;\">\n",
              "      <th></th>\n",
              "      <th>0</th>\n",
              "      <th>1</th>\n",
              "      <th>2</th>\n",
              "      <th>3</th>\n",
              "    </tr>\n",
              "  </thead>\n",
              "  <tbody>\n",
              "    <tr>\n",
              "      <th>0</th>\n",
              "      <td>Census Year</td>\n",
              "      <td>Total Population</td>\n",
              "      <td>Census Cost</td>\n",
              "      <td>Average Cost Per Person</td>\n",
              "    </tr>\n",
              "    <tr>\n",
              "      <th>1</th>\n",
              "      <td>1790</td>\n",
              "      <td>3929214</td>\n",
              "      <td>$44,377</td>\n",
              "      <td>1.13 cents</td>\n",
              "    </tr>\n",
              "    <tr>\n",
              "      <th>2</th>\n",
              "      <td>1800</td>\n",
              "      <td>5308483</td>\n",
              "      <td>$66,109</td>\n",
              "      <td>1.24 cents</td>\n",
              "    </tr>\n",
              "    <tr>\n",
              "      <th>3</th>\n",
              "      <td>1810</td>\n",
              "      <td>7239881</td>\n",
              "      <td>$178,445</td>\n",
              "      <td>2.46 cents</td>\n",
              "    </tr>\n",
              "    <tr>\n",
              "      <th>4</th>\n",
              "      <td>1820</td>\n",
              "      <td>9633822</td>\n",
              "      <td>$208,526</td>\n",
              "      <td>2.16 cents</td>\n",
              "    </tr>\n",
              "  </tbody>\n",
              "</table>\n",
              "</div>"
            ],
            "text/plain": [
              "             0                 1            2                        3\n",
              "0  Census Year  Total Population  Census Cost  Average Cost Per Person\n",
              "1         1790           3929214      $44,377               1.13 cents\n",
              "2         1800           5308483      $66,109               1.24 cents\n",
              "3         1810           7239881     $178,445               2.46 cents\n",
              "4         1820           9633822     $208,526               2.16 cents"
            ]
          },
          "metadata": {
            "tags": []
          },
          "execution_count": 65
        }
      ]
    },
    {
      "cell_type": "code",
      "metadata": {
        "id": "s-2nnNQhNgfZ",
        "outputId": "57a59b92-d8b1-4f98-fa76-6a198f77a0c9",
        "colab": {
          "base_uri": "https://localhost:8080/",
          "height": 79
        }
      },
      "source": [
        "#this second dataframe is not as useful as the first\n",
        "df2 = census_data[1]\n",
        "df2.head()"
      ],
      "execution_count": 66,
      "outputs": [
        {
          "output_type": "execute_result",
          "data": {
            "text/html": [
              "<div>\n",
              "<style scoped>\n",
              "    .dataframe tbody tr th:only-of-type {\n",
              "        vertical-align: middle;\n",
              "    }\n",
              "\n",
              "    .dataframe tbody tr th {\n",
              "        vertical-align: top;\n",
              "    }\n",
              "\n",
              "    .dataframe thead th {\n",
              "        text-align: right;\n",
              "    }\n",
              "</style>\n",
              "<table border=\"1\" class=\"dataframe\">\n",
              "  <thead>\n",
              "    <tr style=\"text-align: right;\">\n",
              "      <th></th>\n",
              "      <th>0</th>\n",
              "    </tr>\n",
              "  </thead>\n",
              "  <tbody>\n",
              "    <tr>\n",
              "      <th>0</th>\n",
              "      <td>The U.S. population reached 300,000,000 on 17 ...</td>\n",
              "    </tr>\n",
              "  </tbody>\n",
              "</table>\n",
              "</div>"
            ],
            "text/plain": [
              "                                                   0\n",
              "0  The U.S. population reached 300,000,000 on 17 ..."
            ]
          },
          "metadata": {
            "tags": []
          },
          "execution_count": 66
        }
      ]
    },
    {
      "cell_type": "markdown",
      "metadata": {
        "id": "9EizbnNcOWiv"
      },
      "source": [
        "After looking at the 2 data sets the first clearly has the relevant data to explore.  \n",
        "\n",
        "After getting a full preview of the data (shown below) there are some problems.\n",
        "\n",
        "The information is not uniform (cents, $, Billions, *)\n",
        "\n",
        "We now need to edit the data so everything is uniform."
      ]
    },
    {
      "cell_type": "code",
      "metadata": {
        "id": "JAi0X8twNqDV",
        "outputId": "9bb5d29b-f103-4431-ef17-fdd200e5d00f",
        "colab": {
          "base_uri": "https://localhost:8080/",
          "height": 785
        }
      },
      "source": [
        "#shows the user all the first dataframe\n",
        "df"
      ],
      "execution_count": 67,
      "outputs": [
        {
          "output_type": "execute_result",
          "data": {
            "text/html": [
              "<div>\n",
              "<style scoped>\n",
              "    .dataframe tbody tr th:only-of-type {\n",
              "        vertical-align: middle;\n",
              "    }\n",
              "\n",
              "    .dataframe tbody tr th {\n",
              "        vertical-align: top;\n",
              "    }\n",
              "\n",
              "    .dataframe thead th {\n",
              "        text-align: right;\n",
              "    }\n",
              "</style>\n",
              "<table border=\"1\" class=\"dataframe\">\n",
              "  <thead>\n",
              "    <tr style=\"text-align: right;\">\n",
              "      <th></th>\n",
              "      <th>0</th>\n",
              "      <th>1</th>\n",
              "      <th>2</th>\n",
              "      <th>3</th>\n",
              "    </tr>\n",
              "  </thead>\n",
              "  <tbody>\n",
              "    <tr>\n",
              "      <th>0</th>\n",
              "      <td>Census Year</td>\n",
              "      <td>Total Population</td>\n",
              "      <td>Census Cost</td>\n",
              "      <td>Average Cost Per Person</td>\n",
              "    </tr>\n",
              "    <tr>\n",
              "      <th>1</th>\n",
              "      <td>1790</td>\n",
              "      <td>3929214</td>\n",
              "      <td>$44,377</td>\n",
              "      <td>1.13 cents</td>\n",
              "    </tr>\n",
              "    <tr>\n",
              "      <th>2</th>\n",
              "      <td>1800</td>\n",
              "      <td>5308483</td>\n",
              "      <td>$66,109</td>\n",
              "      <td>1.24 cents</td>\n",
              "    </tr>\n",
              "    <tr>\n",
              "      <th>3</th>\n",
              "      <td>1810</td>\n",
              "      <td>7239881</td>\n",
              "      <td>$178,445</td>\n",
              "      <td>2.46 cents</td>\n",
              "    </tr>\n",
              "    <tr>\n",
              "      <th>4</th>\n",
              "      <td>1820</td>\n",
              "      <td>9633822</td>\n",
              "      <td>$208,526</td>\n",
              "      <td>2.16 cents</td>\n",
              "    </tr>\n",
              "    <tr>\n",
              "      <th>5</th>\n",
              "      <td>1830</td>\n",
              "      <td>12866020</td>\n",
              "      <td>$378,545</td>\n",
              "      <td>2.94 cents</td>\n",
              "    </tr>\n",
              "    <tr>\n",
              "      <th>6</th>\n",
              "      <td>1840</td>\n",
              "      <td>17069458</td>\n",
              "      <td>$833,371</td>\n",
              "      <td>4.88 cents</td>\n",
              "    </tr>\n",
              "    <tr>\n",
              "      <th>7</th>\n",
              "      <td>1850</td>\n",
              "      <td>23191876</td>\n",
              "      <td>$1,423,351</td>\n",
              "      <td>6.14 cents</td>\n",
              "    </tr>\n",
              "    <tr>\n",
              "      <th>8</th>\n",
              "      <td>1860</td>\n",
              "      <td>31443321</td>\n",
              "      <td>$1,969,377</td>\n",
              "      <td>6.26 cents</td>\n",
              "    </tr>\n",
              "    <tr>\n",
              "      <th>9</th>\n",
              "      <td>1870</td>\n",
              "      <td>38558371</td>\n",
              "      <td>$3,421,198</td>\n",
              "      <td>8.87 cents</td>\n",
              "    </tr>\n",
              "    <tr>\n",
              "      <th>10</th>\n",
              "      <td>1880</td>\n",
              "      <td>50155783</td>\n",
              "      <td>$5,790,678</td>\n",
              "      <td>11.54 cents</td>\n",
              "    </tr>\n",
              "    <tr>\n",
              "      <th>11</th>\n",
              "      <td>1890</td>\n",
              "      <td>62979766</td>\n",
              "      <td>$11,547,127</td>\n",
              "      <td>18.33 cents</td>\n",
              "    </tr>\n",
              "    <tr>\n",
              "      <th>12</th>\n",
              "      <td>1900</td>\n",
              "      <td>76303387</td>\n",
              "      <td>$11,854,000</td>\n",
              "      <td>15.54 cents</td>\n",
              "    </tr>\n",
              "    <tr>\n",
              "      <th>13</th>\n",
              "      <td>1910</td>\n",
              "      <td>91972266</td>\n",
              "      <td>$15,968,000</td>\n",
              "      <td>17.07 cents</td>\n",
              "    </tr>\n",
              "    <tr>\n",
              "      <th>14</th>\n",
              "      <td>1920</td>\n",
              "      <td>105710620</td>\n",
              "      <td>$25,117,000</td>\n",
              "      <td>23.76 cents</td>\n",
              "    </tr>\n",
              "    <tr>\n",
              "      <th>15</th>\n",
              "      <td>1930</td>\n",
              "      <td>122775046</td>\n",
              "      <td>$40,156,000</td>\n",
              "      <td>32.71 cents</td>\n",
              "    </tr>\n",
              "    <tr>\n",
              "      <th>16</th>\n",
              "      <td>1940</td>\n",
              "      <td>131669275</td>\n",
              "      <td>$67,527,000</td>\n",
              "      <td>51.29 cents</td>\n",
              "    </tr>\n",
              "    <tr>\n",
              "      <th>17</th>\n",
              "      <td>1950</td>\n",
              "      <td>151325798</td>\n",
              "      <td>$91,462,000</td>\n",
              "      <td>60.44 cents</td>\n",
              "    </tr>\n",
              "    <tr>\n",
              "      <th>18</th>\n",
              "      <td>1960</td>\n",
              "      <td>179323175</td>\n",
              "      <td>$127,934,000</td>\n",
              "      <td>71.34 cents</td>\n",
              "    </tr>\n",
              "    <tr>\n",
              "      <th>19</th>\n",
              "      <td>1970</td>\n",
              "      <td>203302031</td>\n",
              "      <td>$247,653,000</td>\n",
              "      <td>$1.22</td>\n",
              "    </tr>\n",
              "    <tr>\n",
              "      <th>20</th>\n",
              "      <td>1980</td>\n",
              "      <td>226542199</td>\n",
              "      <td>$1,078,488,000</td>\n",
              "      <td>$4.76</td>\n",
              "    </tr>\n",
              "    <tr>\n",
              "      <th>21</th>\n",
              "      <td>1990</td>\n",
              "      <td>248718301</td>\n",
              "      <td>$2,492,830,000</td>\n",
              "      <td>$10.02</td>\n",
              "    </tr>\n",
              "    <tr>\n",
              "      <th>22</th>\n",
              "      <td>2000</td>\n",
              "      <td>281421906</td>\n",
              "      <td>$4.5 Billion</td>\n",
              "      <td>$15.99</td>\n",
              "    </tr>\n",
              "    <tr>\n",
              "      <th>23</th>\n",
              "      <td>2010*</td>\n",
              "      <td>308745538</td>\n",
              "      <td>$13 Billion</td>\n",
              "      <td>$42.11</td>\n",
              "    </tr>\n",
              "  </tbody>\n",
              "</table>\n",
              "</div>"
            ],
            "text/plain": [
              "              0                 1               2                        3\n",
              "0   Census Year  Total Population     Census Cost  Average Cost Per Person\n",
              "1          1790           3929214         $44,377               1.13 cents\n",
              "2          1800           5308483         $66,109               1.24 cents\n",
              "3          1810           7239881        $178,445               2.46 cents\n",
              "4          1820           9633822        $208,526               2.16 cents\n",
              "5          1830          12866020        $378,545               2.94 cents\n",
              "6          1840          17069458        $833,371               4.88 cents\n",
              "7          1850          23191876      $1,423,351               6.14 cents\n",
              "8          1860          31443321      $1,969,377               6.26 cents\n",
              "9          1870          38558371      $3,421,198               8.87 cents\n",
              "10         1880          50155783      $5,790,678              11.54 cents\n",
              "11         1890          62979766     $11,547,127              18.33 cents\n",
              "12         1900          76303387     $11,854,000              15.54 cents\n",
              "13         1910          91972266     $15,968,000              17.07 cents\n",
              "14         1920         105710620     $25,117,000              23.76 cents\n",
              "15         1930         122775046     $40,156,000              32.71 cents\n",
              "16         1940         131669275     $67,527,000              51.29 cents\n",
              "17         1950         151325798     $91,462,000              60.44 cents\n",
              "18         1960         179323175    $127,934,000              71.34 cents\n",
              "19         1970         203302031    $247,653,000                    $1.22\n",
              "20         1980         226542199  $1,078,488,000                    $4.76\n",
              "21         1990         248718301  $2,492,830,000                   $10.02\n",
              "22         2000         281421906    $4.5 Billion                   $15.99\n",
              "23        2010*         308745538     $13 Billion                   $42.11"
            ]
          },
          "metadata": {
            "tags": []
          },
          "execution_count": 67
        }
      ]
    },
    {
      "cell_type": "code",
      "metadata": {
        "id": "kUYIaSnAP0A8",
        "outputId": "97a8564d-f59f-4c08-cd9d-a052d88546fb",
        "colab": {
          "base_uri": "https://localhost:8080/",
          "height": 451
        }
      },
      "source": [
        "#creates a function that cleans the year\n",
        "clean_year = df[0]\n",
        "\n",
        "def cleanse_year(clean_year):\n",
        "  clean_year = clean_year.replace('\\*','',regex=True)\n",
        "  return clean_year\n",
        "\n",
        "print(cleanse_year(clean_year))"
      ],
      "execution_count": 68,
      "outputs": [
        {
          "output_type": "stream",
          "text": [
            "0     Census Year\n",
            "1            1790\n",
            "2            1800\n",
            "3            1810\n",
            "4            1820\n",
            "5            1830\n",
            "6            1840\n",
            "7            1850\n",
            "8            1860\n",
            "9            1870\n",
            "10           1880\n",
            "11           1890\n",
            "12           1900\n",
            "13           1910\n",
            "14           1920\n",
            "15           1930\n",
            "16           1940\n",
            "17           1950\n",
            "18           1960\n",
            "19           1970\n",
            "20           1980\n",
            "21           1990\n",
            "22           2000\n",
            "23           2010\n",
            "Name: 0, dtype: object\n"
          ],
          "name": "stdout"
        }
      ]
    },
    {
      "cell_type": "code",
      "metadata": {
        "id": "hTRhI2VXSbzw",
        "outputId": "87c1ec12-a7ed-4f34-822e-ef868afc3f37",
        "colab": {
          "base_uri": "https://localhost:8080/",
          "height": 451
        }
      },
      "source": [
        "#creates a function that cleans the total population\n",
        "clean_pop = df[1]\n",
        "\n",
        "def cleanse_pop(clean_pop):\n",
        "  clean_pop = clean_pop.replace('\\,','',regex=True)\n",
        "  return clean_pop\n",
        "\n",
        "print(cleanse_pop(clean_pop))"
      ],
      "execution_count": 69,
      "outputs": [
        {
          "output_type": "stream",
          "text": [
            "0     Total Population\n",
            "1              3929214\n",
            "2              5308483\n",
            "3              7239881\n",
            "4              9633822\n",
            "5             12866020\n",
            "6             17069458\n",
            "7             23191876\n",
            "8             31443321\n",
            "9             38558371\n",
            "10            50155783\n",
            "11            62979766\n",
            "12            76303387\n",
            "13            91972266\n",
            "14           105710620\n",
            "15           122775046\n",
            "16           131669275\n",
            "17           151325798\n",
            "18           179323175\n",
            "19           203302031\n",
            "20           226542199\n",
            "21           248718301\n",
            "22           281421906\n",
            "23           308745538\n",
            "Name: 1, dtype: object\n"
          ],
          "name": "stdout"
        }
      ]
    },
    {
      "cell_type": "code",
      "metadata": {
        "id": "l_V4ysL3SgwV",
        "outputId": "415ab8ca-e255-48aa-f2f1-93293d6bedfe",
        "colab": {
          "base_uri": "https://localhost:8080/",
          "height": 451
        }
      },
      "source": [
        "#creates a function that cleans the census cost\n",
        "clean_cost = df[2]\n",
        "\n",
        "def cleanse_cost(clean_cost):\n",
        "  clean_cost = clean_cost.replace('\\$','',regex=True)\n",
        "  clean_cost = clean_cost.replace('\\,','',regex=True)\n",
        "  clean_cost = clean_cost.replace('4.5 Billion','4500000000',regex=True)\n",
        "  clean_cost = clean_cost.replace('\\ Billion','000000000',regex=True)\n",
        "  return clean_cost\n",
        "\n",
        "print(cleanse_cost(clean_cost))"
      ],
      "execution_count": 70,
      "outputs": [
        {
          "output_type": "stream",
          "text": [
            "0     Census Cost\n",
            "1           44377\n",
            "2           66109\n",
            "3          178445\n",
            "4          208526\n",
            "5          378545\n",
            "6          833371\n",
            "7         1423351\n",
            "8         1969377\n",
            "9         3421198\n",
            "10        5790678\n",
            "11       11547127\n",
            "12       11854000\n",
            "13       15968000\n",
            "14       25117000\n",
            "15       40156000\n",
            "16       67527000\n",
            "17       91462000\n",
            "18      127934000\n",
            "19      247653000\n",
            "20     1078488000\n",
            "21     2492830000\n",
            "22     4500000000\n",
            "23    13000000000\n",
            "Name: 2, dtype: object\n"
          ],
          "name": "stdout"
        }
      ]
    },
    {
      "cell_type": "code",
      "metadata": {
        "id": "H6HpgHl_lS3J",
        "outputId": "05aaa4b7-7b5a-4ed0-b59c-008454cde706",
        "colab": {
          "base_uri": "https://localhost:8080/",
          "height": 451
        }
      },
      "source": [
        "#creates a function that cleans the average cost\n",
        "\n",
        "clean_average = df[3]\n",
        "\n",
        "def cleanse_average(clean_average):\n",
        "  clean_average = clean_average.replace(' cents','',regex=True)\n",
        "  clean_average = clean_average.replace('\\$','',regex=True)\n",
        "  clean_average = clean_average.replace('1.13','.0113',regex=True)\n",
        "  clean_average = clean_average.replace('1.24','.0124',regex=True)\n",
        "  clean_average = clean_average.replace('2.46','.0246',regex=True)\n",
        "  clean_average = clean_average.replace('2.16','.0216',regex=True)\n",
        "  clean_average = clean_average.replace('2.94','.0294',regex=True)\n",
        "  clean_average = clean_average.replace('4.88','.0488',regex=True)\n",
        "  clean_average = clean_average.replace('6.14','.0614',regex=True)\n",
        "  clean_average = clean_average.replace('6.26','.0626',regex=True)\n",
        "  clean_average = clean_average.replace('8.87','.0887',regex=True)\n",
        "  clean_average = clean_average.replace('11.54','.1154',regex=True)\n",
        "  clean_average = clean_average.replace('18.33','.1833',regex=True)\n",
        "  clean_average = clean_average.replace('15.54','.1554',regex=True)\n",
        "  clean_average = clean_average.replace('17.07','.1707',regex=True)\n",
        "  clean_average = clean_average.replace('23.76','.2376',regex=True)\n",
        "  clean_average = clean_average.replace('32.71','.3271',regex=True)\n",
        "  clean_average = clean_average.replace('51.29','.5129',regex=True)\n",
        "  clean_average = clean_average.replace('60.44','.6044',regex=True)\n",
        "  clean_average = clean_average.replace('71.34','.0734',regex=True)\n",
        "  return clean_average\n",
        "  \n",
        "print(cleanse_average(clean_average))"
      ],
      "execution_count": 71,
      "outputs": [
        {
          "output_type": "stream",
          "text": [
            "0     Average Cost Per Person\n",
            "1                       .0113\n",
            "2                       .0124\n",
            "3                       .0246\n",
            "4                       .0216\n",
            "5                       .0294\n",
            "6                       .0488\n",
            "7                       .0614\n",
            "8                       .0626\n",
            "9                       .0887\n",
            "10                      .1154\n",
            "11                      .1833\n",
            "12                      .1554\n",
            "13                      .1707\n",
            "14                      .2376\n",
            "15                      .3271\n",
            "16                      .5129\n",
            "17                      .6044\n",
            "18                      .0734\n",
            "19                       1.22\n",
            "20                       4.76\n",
            "21                      10.02\n",
            "22                      15.99\n",
            "23                      42.11\n",
            "Name: 3, dtype: object\n"
          ],
          "name": "stdout"
        }
      ]
    },
    {
      "cell_type": "code",
      "metadata": {
        "id": "BwHkTm4Yhtd-",
        "outputId": "02f5ba3c-d37c-4e62-e119-a6dbdd774879",
        "colab": {
          "base_uri": "https://localhost:8080/",
          "height": 202
        }
      },
      "source": [
        "#applies all the functions\n",
        "\n",
        "df = df.apply(cleanse_year)\n",
        "df = df.apply(cleanse_pop)\n",
        "df = df.apply(cleanse_cost)\n",
        "df = df.apply(cleanse_average)\n",
        "df.head()"
      ],
      "execution_count": 75,
      "outputs": [
        {
          "output_type": "execute_result",
          "data": {
            "text/html": [
              "<div>\n",
              "<style scoped>\n",
              "    .dataframe tbody tr th:only-of-type {\n",
              "        vertical-align: middle;\n",
              "    }\n",
              "\n",
              "    .dataframe tbody tr th {\n",
              "        vertical-align: top;\n",
              "    }\n",
              "\n",
              "    .dataframe thead th {\n",
              "        text-align: right;\n",
              "    }\n",
              "</style>\n",
              "<table border=\"1\" class=\"dataframe\">\n",
              "  <thead>\n",
              "    <tr style=\"text-align: right;\">\n",
              "      <th></th>\n",
              "      <th>0</th>\n",
              "      <th>1</th>\n",
              "      <th>2</th>\n",
              "      <th>3</th>\n",
              "    </tr>\n",
              "  </thead>\n",
              "  <tbody>\n",
              "    <tr>\n",
              "      <th>0</th>\n",
              "      <td>Census Year</td>\n",
              "      <td>Total Population</td>\n",
              "      <td>Census Cost</td>\n",
              "      <td>Average Cost Per Person</td>\n",
              "    </tr>\n",
              "    <tr>\n",
              "      <th>1</th>\n",
              "      <td>1790</td>\n",
              "      <td>3929214</td>\n",
              "      <td>44377</td>\n",
              "      <td>.0113</td>\n",
              "    </tr>\n",
              "    <tr>\n",
              "      <th>2</th>\n",
              "      <td>1800</td>\n",
              "      <td>5308483</td>\n",
              "      <td>66109</td>\n",
              "      <td>.0124</td>\n",
              "    </tr>\n",
              "    <tr>\n",
              "      <th>3</th>\n",
              "      <td>1810</td>\n",
              "      <td>7239881</td>\n",
              "      <td>178445</td>\n",
              "      <td>.0246</td>\n",
              "    </tr>\n",
              "    <tr>\n",
              "      <th>4</th>\n",
              "      <td>1820</td>\n",
              "      <td>9633822</td>\n",
              "      <td>208526</td>\n",
              "      <td>.0216</td>\n",
              "    </tr>\n",
              "  </tbody>\n",
              "</table>\n",
              "</div>"
            ],
            "text/plain": [
              "             0                 1            2                        3\n",
              "0  Census Year  Total Population  Census Cost  Average Cost Per Person\n",
              "1         1790           3929214        44377                    .0113\n",
              "2         1800           5308483        66109                    .0124\n",
              "3         1810           7239881       178445                    .0246\n",
              "4         1820           9633822       208526                    .0216"
            ]
          },
          "metadata": {
            "tags": []
          },
          "execution_count": 75
        }
      ]
    },
    {
      "cell_type": "code",
      "metadata": {
        "id": "oun7NrDkpuzE"
      },
      "source": [
        "#this writes the csv file\n",
        "\n",
        "df.to_csv(\"census_cost_cleansed.csv\")"
      ],
      "execution_count": 78,
      "outputs": []
    },
    {
      "cell_type": "code",
      "metadata": {
        "id": "uP_W3cNkSkAK",
        "outputId": "fe4a44b8-3e18-4254-bfd3-c1647830e5f8",
        "colab": {
          "base_uri": "https://localhost:8080/",
          "height": 451
        }
      },
      "source": [
        "#THIS CODE WORKS BUT WHEN TRYING TO APPLY TO THE DATAFRAME IT APPLIES TO EVERY COLUMN - COULD NOT FIND SOLUTION TO ONLY APPLY 1 COLUMN\n",
        "#creates a function that cleans the average cost\n",
        "\n",
        "clean_average = df[3]\n",
        "\n",
        "def cleanse_average(clean_average):\n",
        "  clean_average = clean_average.replace(' cents','',regex=True)\n",
        "  clean_average = clean_average.replace('\\$','',regex=True)\n",
        "  \n",
        "\n",
        "  for x in range(0,19):\n",
        "    try:\n",
        "      temp = float(clean_average.iloc[x])\n",
        "      clean_average.iloc[x] = temp/100\n",
        "    except ValueError:\n",
        "      clean_average\n",
        "\n",
        "  return clean_average\n",
        "  \n",
        "print(cleanse_average(clean_average))"
      ],
      "execution_count": 51,
      "outputs": [
        {
          "output_type": "stream",
          "text": [
            "0     Average Cost Per Person\n",
            "1                      0.0113\n",
            "2                      0.0124\n",
            "3                      0.0246\n",
            "4                      0.0216\n",
            "5                      0.0294\n",
            "6                      0.0488\n",
            "7                      0.0614\n",
            "8                      0.0626\n",
            "9                      0.0887\n",
            "10                     0.1154\n",
            "11                     0.1833\n",
            "12                     0.1554\n",
            "13                     0.1707\n",
            "14                     0.2376\n",
            "15                     0.3271\n",
            "16                     0.5129\n",
            "17                     0.6044\n",
            "18                     0.7134\n",
            "19                       1.22\n",
            "20                       4.76\n",
            "21                      10.02\n",
            "22                      15.99\n",
            "23                      42.11\n",
            "Name: 3, dtype: object\n"
          ],
          "name": "stdout"
        }
      ]
    }
  ]
}
