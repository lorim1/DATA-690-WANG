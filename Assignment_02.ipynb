{
 "cells": [
  {
   "cell_type": "markdown",
   "metadata": {},
   "source": [
    "### Prompts a user to enter 10 integers. \n",
    "\n",
    "### If the user enters anything other than integers, remind her that **only** integers are allowed and let her retry. *Don't allow* the user to enter more than 10 or less than 10 integers. Display the 10 integers back to the user at the end. Calculate the following statistics from the 10 integers entered:\n",
    "\n",
    "### Minimum\n",
    "### Maximum\n",
    "### Range\n",
    "### Mean\n",
    "### Variance\n",
    "### Standard Deviation"
   ]
  },
  {
   "cell_type": "code",
   "execution_count": 7,
   "metadata": {},
   "outputs": [
    {
     "name": "stdout",
     "output_type": "stream",
     "text": [
      "Please enter an integer: \n"
     ]
    },
    {
     "name": "stdin",
     "output_type": "stream",
     "text": [
      " 7\n"
     ]
    },
    {
     "name": "stdout",
     "output_type": "stream",
     "text": [
      "Please enter an integer: \n"
     ]
    },
    {
     "name": "stdin",
     "output_type": "stream",
     "text": [
      " 98\n"
     ]
    },
    {
     "name": "stdout",
     "output_type": "stream",
     "text": [
      "Please enter an integer: \n"
     ]
    },
    {
     "name": "stdin",
     "output_type": "stream",
     "text": [
      " 1\n"
     ]
    },
    {
     "name": "stdout",
     "output_type": "stream",
     "text": [
      "Please enter an integer: \n"
     ]
    },
    {
     "name": "stdin",
     "output_type": "stream",
     "text": [
      " 3\n"
     ]
    },
    {
     "name": "stdout",
     "output_type": "stream",
     "text": [
      "Please enter an integer: \n"
     ]
    },
    {
     "name": "stdin",
     "output_type": "stream",
     "text": [
      " 7\n"
     ]
    },
    {
     "name": "stdout",
     "output_type": "stream",
     "text": [
      "Please enter an integer: \n"
     ]
    },
    {
     "name": "stdin",
     "output_type": "stream",
     "text": [
      " 9\n"
     ]
    },
    {
     "name": "stdout",
     "output_type": "stream",
     "text": [
      "Please enter an integer: \n"
     ]
    },
    {
     "name": "stdin",
     "output_type": "stream",
     "text": [
      " 34\n"
     ]
    },
    {
     "name": "stdout",
     "output_type": "stream",
     "text": [
      "Please enter an integer: \n"
     ]
    },
    {
     "name": "stdin",
     "output_type": "stream",
     "text": [
      " 2\n"
     ]
    },
    {
     "name": "stdout",
     "output_type": "stream",
     "text": [
      "Please enter an integer: \n"
     ]
    },
    {
     "name": "stdin",
     "output_type": "stream",
     "text": [
      " 5\n"
     ]
    },
    {
     "name": "stdout",
     "output_type": "stream",
     "text": [
      "Please enter an integer: \n"
     ]
    },
    {
     "name": "stdin",
     "output_type": "stream",
     "text": [
      " 3\n"
     ]
    },
    {
     "name": "stdout",
     "output_type": "stream",
     "text": [
      "You gave the numbers: \n",
      "7\n",
      "98\n",
      "1\n",
      "3\n",
      "7\n",
      "9\n",
      "34\n",
      "2\n",
      "5\n",
      "3\n",
      "The minimum is \n",
      "1\n",
      "The maximum is \n",
      "98\n",
      "The range is \n",
      "97\n",
      "The mean is \n",
      "16.9\n",
      "The variance is \n",
      "903.4333333333332\n",
      "The standard deviation is \n",
      "28.514733033994897\n",
      "All done! :)\n"
     ]
    }
   ],
   "source": [
    "#this part takes in the numbers given from the user. spits an error out if not given an integer.\n",
    "count = 0\n",
    "num_list = [0, 0, 0, 0, 0, 0, 0, 0, 0, 0]\n",
    "while count < 10:\n",
    "\n",
    "    print(\"Please enter an integer: \")\n",
    "    input0 = input()\n",
    "\n",
    "    try:\n",
    "        val0 = int(input0)\n",
    "        num_list[count] = val0\n",
    "        count = count + 1\n",
    "        \n",
    "    except ValueError:\n",
    "        print(\"That is not an integer. Please try again. \")\n",
    "\n",
    "#this is where the list assigns individual values - to make it easier to read later\n",
    "num0 = num_list[0]\n",
    "num1 = num_list[1]\n",
    "num2 = num_list[2]\n",
    "num3 = num_list[3]\n",
    "num4 = num_list[4]\n",
    "num5 = num_list[5]\n",
    "num6 = num_list[6]\n",
    "num7 = num_list[7]\n",
    "num8 = num_list[8]\n",
    "num9 = num_list[9]\n",
    "\n",
    "#the program reminds you what integers you entered\n",
    "print (\"You gave the numbers: \")\n",
    "print (num0)\n",
    "print (num1)\n",
    "print (num2)\n",
    "print (num3)\n",
    "print (num4)\n",
    "print (num5)\n",
    "print (num6)\n",
    "print (num7)\n",
    "print (num8)\n",
    "print (num9)\n",
    "\n",
    "#finds the minimum number\n",
    "minimum = num0\n",
    "\n",
    "if num1 < minimum:\n",
    "    minimum = num1\n",
    "    \n",
    "if num2 < minimum:\n",
    "    minimum = num2\n",
    "        \n",
    "if num3 < minimum:\n",
    "    minimum = num3\n",
    "    \n",
    "if num4 < minimum:\n",
    "    minimum = num4\n",
    "    \n",
    "if num5 < minimum:\n",
    "    minimum = num5\n",
    "    \n",
    "if num6 < minimum:\n",
    "    minimum = num6\n",
    "\n",
    "if num7 < minimum:\n",
    "    minimum = num7\n",
    "    \n",
    "if num8 < minimum:\n",
    "    minimum = num8\n",
    "    \n",
    "if num9 < minimum:\n",
    "    minimum = num9\n",
    "    \n",
    "print (\"The minimum is \")\n",
    "print (minimum)\n",
    "    \n",
    "#finds the maximum number\n",
    "maximum = num_list[0]\n",
    "\n",
    "if num1 > maximum:\n",
    "    maximum = num1\n",
    "    \n",
    "if num2 > maximum:\n",
    "    maximum = num2\n",
    "    \n",
    "if num3 > maximum:\n",
    "    maximum = num3\n",
    "\n",
    "if num4 > maximum:\n",
    "    maximum = num4\n",
    "\n",
    "if num5 > maximum:\n",
    "    maximum = num5\n",
    "    \n",
    "if num6 > maximum:\n",
    "    maximum = num6\n",
    "    \n",
    "if num7 > maximum:\n",
    "    maximum = num7\n",
    "\n",
    "if num8 > maximum:\n",
    "    maximum = num8\n",
    "    \n",
    "if num9 > maximum:\n",
    "    maximum = num9   \n",
    "\n",
    "print (\"The maximum is \")\n",
    "print (maximum)\n",
    "\n",
    "#calculates the range\n",
    "range = maximum - minimum\n",
    "\n",
    "print (\"The range is \")\n",
    "print (range)\n",
    "\n",
    "#calculates the mean\n",
    "mean = (num0 + num1 + num2 + num3 + num4 + num5 + num6 + num7 + num8 + num9) / 10\n",
    "    \n",
    "print (\"The mean is \")\n",
    "print (mean)\n",
    "\n",
    "#calculates the variance\n",
    "variance = ( ((num0-mean)**2) + ((num1-mean)**2) + ((num2-mean)**2) + ((num3-mean)**2) + ((num4-mean)**2) + ((num5-mean)**2) + ((num6-mean)**2) + ((num7-mean)**2) + ((num8-mean)**2) + ((num9-mean)**2)) / 9\n",
    "\n",
    "print (\"The variance is \") \n",
    "print (variance)\n",
    "\n",
    "#calculates the standard deviation\n",
    "\n",
    "stan_dev = ((((num0-mean)**2) + ((num1-mean)**2) + ((num2-mean)**2) + ((num3-mean)**2) + ((num4-mean)**2) + ((num5-mean)**2) + ((num6-mean)**2) + ((num7-mean)**2) + ((num8-mean)**2) + ((num9-mean)**2)) / 10)**(1/2)\n",
    "\n",
    "print (\"The standard deviation is \")\n",
    "print (stan_dev)\n",
    "\n",
    "print (\"All done! :)\")"
   ]
  },
  {
   "cell_type": "code",
   "execution_count": null,
   "metadata": {},
   "outputs": [],
   "source": []
  }
 ],
 "metadata": {
  "kernelspec": {
   "display_name": "Python 3",
   "language": "python",
   "name": "python3"
  },
  "language_info": {
   "codemirror_mode": {
    "name": "ipython",
    "version": 3
   },
   "file_extension": ".py",
   "mimetype": "text/x-python",
   "name": "python",
   "nbconvert_exporter": "python",
   "pygments_lexer": "ipython3",
   "version": "3.8.1"
  }
 },
 "nbformat": 4,
 "nbformat_minor": 4
}
