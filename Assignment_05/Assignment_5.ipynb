{
  "nbformat": 4,
  "nbformat_minor": 0,
  "metadata": {
    "colab": {
      "name": "Assignment_5.ipynb",
      "provenance": [],
      "collapsed_sections": []
    },
    "kernelspec": {
      "name": "python3",
      "display_name": "Python 3"
    }
  },
  "cells": [
    {
      "cell_type": "markdown",
      "metadata": {
        "id": "fKvQQUv7I6Rw"
      },
      "source": [
        "Meaning of the variables:\n",
        "\n",
        "UNITID - Unit ID for institution\n",
        "\n",
        "INSTNM - Institution name\n",
        "\n",
        "CITY - City where the institution is located\n",
        "\n",
        "STABBR - State postcode where the institution is located\n",
        "\n",
        "ZIP - Zip code where the instutition is located\n",
        "\n",
        "ADM_RATE - Overall admission rate\n",
        "\n",
        "UGDS - Enrollment of undergraduate certificate/degree-seeking students\n",
        "\n",
        "TUITIONFEE_IN - In-state tuition and fees\n",
        "\n",
        "MN_EARN_WNE_P10 - Median earning of students working and not enrolled 10 years after entry"
      ]
    },
    {
      "cell_type": "code",
      "metadata": {
        "id": "Yot8GWiDep5k"
      },
      "source": [
        "#exploring college scorecard data from excel file and then trasnfering information into a new file\n",
        "\n",
        "#importing the libraries  and files needed for the assignment\n",
        "import numpy as np\n",
        "from random import randint\n",
        "import pandas as pd\n",
        "import csv\n",
        "\n",
        "with open (\"MERGED2017_18_PP.csv\",\"r\") as file:\n",
        "  data = pd.read_csv(\"MERGED2017_18_PP.csv\", low_memory=False)"
      ],
      "execution_count": 2,
      "outputs": []
    },
    {
      "cell_type": "code",
      "metadata": {
        "id": "M0cO_FjKeQLo",
        "outputId": "7250f0cd-077a-46eb-f467-6f20fe36cf8e",
        "colab": {
          "base_uri": "https://localhost:8080/",
          "height": 34
        }
      },
      "source": [
        "#prints the numbers of rows and columns\n",
        "print(\"The number of rows, columns:\" , data.shape , end='\\n')"
      ],
      "execution_count": 3,
      "outputs": [
        {
          "output_type": "stream",
          "text": [
            "The number of rows, columns: (7112, 1986)\n"
          ],
          "name": "stdout"
        }
      ]
    },
    {
      "cell_type": "code",
      "metadata": {
        "id": "XIj2buXfeUip",
        "outputId": "7bd4ae25-7dc3-4f3d-8506-933dcc64d741",
        "colab": {
          "base_uri": "https://localhost:8080/",
          "height": 119
        }
      },
      "source": [
        "#prints the first 5 colleges\n",
        "print(\"These are the first five colleges:\")\n",
        "for x in range(5):\n",
        "  print(data['INSTNM'].iloc[x])"
      ],
      "execution_count": 4,
      "outputs": [
        {
          "output_type": "stream",
          "text": [
            "These are the first five colleges:\n",
            "Alabama A & M University\n",
            "University of Alabama at Birmingham\n",
            "Amridge University\n",
            "University of Alabama in Huntsville\n",
            "Alabama State University\n"
          ],
          "name": "stdout"
        }
      ]
    },
    {
      "cell_type": "code",
      "metadata": {
        "id": "xnq5PDVjeUt2",
        "outputId": "8d421e42-f776-4984-91ea-9d860bc51064",
        "colab": {
          "base_uri": "https://localhost:8080/",
          "height": 119
        }
      },
      "source": [
        "#prints the last 5 colleges\n",
        "print(\"These are the last five colleges:\")\n",
        "for x in range(1,6):\n",
        "  print(data['INSTNM'].iloc[-x])"
      ],
      "execution_count": 5,
      "outputs": [
        {
          "output_type": "stream",
          "text": [
            "These are the last five colleges:\n",
            "HCI College - Fort Lauderdale Campus\n",
            "BCI - Malden\n",
            "High Desert Medical College - Bakerfield\n",
            "Bay Area Medical Academy - San Jose Satellite Location\n",
            "Arizona State University at Yuma\n"
          ],
          "name": "stdout"
        }
      ]
    },
    {
      "cell_type": "code",
      "metadata": {
        "id": "kEDsi1AkeU16",
        "outputId": "c415668c-4667-4e2a-a929-9ecc85159f28",
        "colab": {
          "base_uri": "https://localhost:8080/",
          "height": 119
        }
      },
      "source": [
        "#prints 5 random colleges\n",
        "print(\"These are five random colleges:\")\n",
        "for x in range(5):\n",
        "  print(data['INSTNM'].iloc[randint(0,7112)])"
      ],
      "execution_count": 6,
      "outputs": [
        {
          "output_type": "stream",
          "text": [
            "These are five random colleges:\n",
            "Model College of Hair Design\n",
            "Sessions College for Professional Design\n",
            "Broadview University - Globe University - Sioux Falls - Teach-Out\n",
            "Cleveland Institute of Dental-Medical Assistants-Cleveland\n",
            "Fordham University\n"
          ],
          "name": "stdout"
        }
      ]
    },
    {
      "cell_type": "code",
      "metadata": {
        "id": "1MBqdYzceU6U"
      },
      "source": [
        "#creates a smaller data frame with variables below\n",
        "new_df = data.filter(['UNITID', 'INSTNM','CITY','STABBR','ZIP','ADM_RATE','UGDS','TUITIONFEE_IN','MN_EARN_WNE_P10'], axis=1)"
      ],
      "execution_count": 7,
      "outputs": []
    },
    {
      "cell_type": "code",
      "metadata": {
        "id": "ddqn4W0DeU9S",
        "outputId": "1fec107e-9bca-47b1-95c0-03cb077b7f3d",
        "colab": {
          "base_uri": "https://localhost:8080/",
          "height": 204
        }
      },
      "source": [
        "#prints the first 10 colleges of the new data frame\n",
        "print(\"These are the first ten colleges:\")\n",
        "for x in range(10):\n",
        "  print(new_df['INSTNM'].iloc[x])"
      ],
      "execution_count": 8,
      "outputs": [
        {
          "output_type": "stream",
          "text": [
            "These are the first ten colleges:\n",
            "Alabama A & M University\n",
            "University of Alabama at Birmingham\n",
            "Amridge University\n",
            "University of Alabama in Huntsville\n",
            "Alabama State University\n",
            "The University of Alabama\n",
            "Central Alabama Community College\n",
            "Athens State University\n",
            "Auburn University at Montgomery\n",
            "Auburn University\n"
          ],
          "name": "stdout"
        }
      ]
    },
    {
      "cell_type": "code",
      "metadata": {
        "id": "v6P5xuxJeVAw",
        "outputId": "80683049-c33b-4211-9ed2-2ad1f6593c7b",
        "colab": {
          "base_uri": "https://localhost:8080/",
          "height": 204
        }
      },
      "source": [
        "#prints the last 10 colleges of the new data frame\n",
        "print(\"These are the last ten colleges:\")\n",
        "for x in range(1,11):\n",
        "  print(new_df['INSTNM'].iloc[-x])"
      ],
      "execution_count": 9,
      "outputs": [
        {
          "output_type": "stream",
          "text": [
            "These are the last ten colleges:\n",
            "HCI College - Fort Lauderdale Campus\n",
            "BCI - Malden\n",
            "High Desert Medical College - Bakerfield\n",
            "Bay Area Medical Academy - San Jose Satellite Location\n",
            "Arizona State University at Yuma\n",
            "Arizona State University at The Gila Valley\n",
            "Arizona State University - ASU Colleges at Lake Havasu City\n",
            "Arizona State University at Tucson\n",
            "Barber School of Pittsburgh - Ambridge\n",
            "National Personal Training Institute of Cleveland\n"
          ],
          "name": "stdout"
        }
      ]
    },
    {
      "cell_type": "code",
      "metadata": {
        "id": "NgyxfNysfFFw",
        "outputId": "c16d29fb-973f-46d3-8e8f-936742a1c412",
        "colab": {
          "base_uri": "https://localhost:8080/",
          "height": 204
        }
      },
      "source": [
        "#prints 10 random colleges of the new data\n",
        "print(\"These are ten random colleges:\")\n",
        "for x in range(10):\n",
        "  print(new_df['INSTNM'].iloc[randint(0,7112)])"
      ],
      "execution_count": 10,
      "outputs": [
        {
          "output_type": "stream",
          "text": [
            "These are ten random colleges:\n",
            "Sacramento Center\n",
            "Empire Beauty School-West Mifflin\n",
            "Elevate Salon Institute-Westminster\n",
            "Academy Di Capelli -\n",
            "Franciscan School of Theology\n",
            "Empire Beauty School-Union\n",
            "MyComputerCareer.com\n",
            "United States Naval Academy\n",
            "Eastern New Mexico University-Roswell Campus\n",
            "Louisiana State University-Shreveport\n"
          ],
          "name": "stdout"
        }
      ]
    },
    {
      "cell_type": "code",
      "metadata": {
        "id": "RvTR9rhXfFPU",
        "outputId": "cee1b6bb-2cb1-4792-a9f0-dead1ba07843",
        "colab": {
          "base_uri": "https://localhost:8080/",
          "height": 357
        }
      },
      "source": [
        "#finds and displays specific colleges\n",
        "uni_list = []\n",
        "  \n",
        "print(end='\\n')\n",
        "index_value = new_df[new_df['INSTNM'] == 'University of Maryland-Baltimore County'].index.values\n",
        "print(new_df.loc[index_value])\n",
        "uni_list.append(int(new_df['TUITIONFEE_IN'].iloc[index_value]))\n",
        "\n",
        "print(end='\\n')\n",
        "index_value1 = new_df[new_df['INSTNM'] == 'University of Maryland-College Park'].index.values\n",
        "print(new_df.loc[index_value1])\n",
        "uni_list.append(int(new_df['TUITIONFEE_IN'].iloc[index_value1]))\n",
        "\n",
        "print(end='\\n')\n",
        "index_value2 = new_df[new_df['INSTNM'] == 'Loyola University Maryland'].index.values\n",
        "print(new_df.loc[index_value2])\n",
        "uni_list.append(int(new_df['TUITIONFEE_IN'].iloc[index_value2]))\n",
        "\n",
        "print(end='\\n')\n",
        "index_value3 = new_df[new_df['INSTNM'] == 'Johns Hopkins University'].index.values\n",
        "print(new_df.loc[index_value3])\n",
        "uni_list.append(int(new_df['TUITIONFEE_IN'].iloc[index_value3]))"
      ],
      "execution_count": 11,
      "outputs": [
        {
          "output_type": "stream",
          "text": [
            "\n",
            "      UNITID  ... MN_EARN_WNE_P10\n",
            "1478  163268  ...             NaN\n",
            "\n",
            "[1 rows x 9 columns]\n",
            "\n",
            "      UNITID  ... MN_EARN_WNE_P10\n",
            "1479  163286  ...             NaN\n",
            "\n",
            "[1 rows x 9 columns]\n",
            "\n",
            "      UNITID                      INSTNM  ... TUITIONFEE_IN MN_EARN_WNE_P10\n",
            "1475  163046  Loyola University Maryland  ...       47560.0             NaN\n",
            "\n",
            "[1 rows x 9 columns]\n",
            "\n",
            "      UNITID                    INSTNM  ... TUITIONFEE_IN MN_EARN_WNE_P10\n",
            "1473  162928  Johns Hopkins University  ...       52170.0             NaN\n",
            "\n",
            "[1 rows x 9 columns]\n"
          ],
          "name": "stdout"
        }
      ]
    },
    {
      "cell_type": "code",
      "metadata": {
        "id": "dQN39RRFfFWS",
        "outputId": "09eb58b9-91b7-4644-a528-f2bb6b760df1",
        "colab": {
          "base_uri": "https://localhost:8080/",
          "height": 68
        }
      },
      "source": [
        "#calculate the min, max, average in-state tuition for those colleges\n",
        "print(\"The minimum in-state tuition out of those colleges is $\" , min(uni_list))\n",
        "print(\"The maximum in-state tuition out of those colleges is $\" , max(uni_list))\n",
        "print(\"The average in-state tuition out of those colleges is $\" , np.average(uni_list))"
      ],
      "execution_count": 12,
      "outputs": [
        {
          "output_type": "stream",
          "text": [
            "The minimum in-state tuition out of those colleges is $ 10399\n",
            "The maximum in-state tuition out of those colleges is $ 52170\n",
            "The average in-state tuition out of those colleges is $ 30411.75\n"
          ],
          "name": "stdout"
        }
      ]
    },
    {
      "cell_type": "code",
      "metadata": {
        "id": "PlJVpRQ5fFdX",
        "outputId": "46e02787-fc3a-4a7a-96d5-e192d1d7f77d",
        "colab": {
          "base_uri": "https://localhost:8080/",
          "height": 51
        }
      },
      "source": [
        "#creates a csv file\n",
        "new_delmarvapadc = new_df.loc[(new_df['STABBR'] =='DE')]\n",
        "new_delmarvapadc = new_delmarvapadc.append(new_df.loc[(new_df['STABBR'] =='MD')])\n",
        "new_delmarvapadc = new_delmarvapadc.append(new_df.loc[(new_df['STABBR'] =='VA')])\n",
        "new_delmarvapadc = new_delmarvapadc.append(new_df.loc[(new_df['STABBR'] =='PA')])\n",
        "new_delmarvapadc = new_delmarvapadc.append(new_df.loc[(new_df['STABBR'] =='DC')])\n",
        "  \n",
        "new_delmarvapadc.to_csv(\"Five_States_Colleges.csv\")\n",
        "  \n",
        "print(end='\\n')\n",
        "print(\"File created!\")"
      ],
      "execution_count": 13,
      "outputs": [
        {
          "output_type": "stream",
          "text": [
            "\n",
            "File created!\n"
          ],
          "name": "stdout"
        }
      ]
    }
  ]
}