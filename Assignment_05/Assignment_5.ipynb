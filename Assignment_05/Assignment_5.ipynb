{
  "nbformat": 4,
  "nbformat_minor": 0,
  "metadata": {
    "colab": {
      "name": "Assignment_5.ipynb",
      "provenance": [],
      "collapsed_sections": []
    },
    "kernelspec": {
      "name": "python3",
      "display_name": "Python 3"
    }
  },
  "cells": [
    {
      "cell_type": "markdown",
      "metadata": {
        "id": "xD4g4cARGyHF"
      },
      "source": [
        "1. Explore College Scorecard website - https://collegescorecard.ed.gov/\n",
        "\n",
        "2. Explore College Scorecard Data web page - https://collegescorecard.ed.gov/data/\n",
        "\n",
        "3. Download and read the documentation - https://collegescorecard.ed.gov/assets/FullDataDocumentation.pdf\n",
        "\n",
        "4. Download the dataset - https://ed-public-download.app.cloud.gov/downloads/CollegeScorecard_Raw_Data.zip (265MB Zip File)\n",
        "\n",
        "5. Unzip the file into a folder in your personal computer (there are many files, one for each school year)\n",
        "\n",
        "Steps 1-5 done before typing any code"
      ]
    },
    {
      "cell_type": "code",
      "metadata": {
        "id": "Yot8GWiDep5k"
      },
      "source": [
        "#exploring college scorecard data from excel file and then trasnfering information into a new file\n",
        "\n",
        "#importing the libraries and files needed for the assignment\n",
        "import numpy as np\n",
        "from random import randint\n",
        "import pandas as pd\n",
        "import csv"
      ],
      "execution_count": 1,
      "outputs": []
    },
    {
      "cell_type": "markdown",
      "metadata": {
        "id": "Lb70d9WjGYeW"
      },
      "source": [
        "6. Upload the 2017-2018 school year file \"MERGED2017_18_PP.csv\" to Colab and create a Jupyter notebook to explore the dataset:"
      ]
    },
    {
      "cell_type": "code",
      "metadata": {
        "id": "sl_ThO1tGX0T"
      },
      "source": [
        "#uploads the csv with pandas\n",
        "data = pd.read_csv(\"MERGED2017_18_PP.csv\", low_memory=False)"
      ],
      "execution_count": 2,
      "outputs": []
    },
    {
      "cell_type": "markdown",
      "metadata": {
        "id": "Sb-hhe3-GlkV"
      },
      "source": [
        "How many colleges or rows?\n",
        "\n",
        "How many variables or columns?"
      ]
    },
    {
      "cell_type": "code",
      "metadata": {
        "id": "M0cO_FjKeQLo",
        "outputId": "7900e6d2-ec83-4fb4-e445-2c2589b3d35d",
        "colab": {
          "base_uri": "https://localhost:8080/",
          "height": 35
        }
      },
      "source": [
        "#prints the numbers of rows and columns\n",
        "print(\"The number of rows, columns:\" , data.shape , end='\\n')"
      ],
      "execution_count": 3,
      "outputs": [
        {
          "output_type": "stream",
          "text": [
            "The number of rows, columns: (7112, 1986)\n"
          ],
          "name": "stdout"
        }
      ]
    },
    {
      "cell_type": "markdown",
      "metadata": {
        "id": "jyK2QTzCIFmi"
      },
      "source": [
        "Look at the first 5 colleges"
      ]
    },
    {
      "cell_type": "code",
      "metadata": {
        "id": "XIj2buXfeUip",
        "outputId": "f1166e14-8d3e-4f9c-9488-8e4cc9ca9f66",
        "colab": {
          "base_uri": "https://localhost:8080/",
          "height": 173
        }
      },
      "source": [
        "#prints the first 5 colleges\n",
        "print(\"These are the first five colleges:\")\n",
        "print(data.head())\n",
        "\n",
        "#this code only prints the name\n",
        "#for x in range(5):\n",
        "  #print(data['INSTNM'].iloc[x])"
      ],
      "execution_count": 4,
      "outputs": [
        {
          "output_type": "stream",
          "text": [
            "These are the first five colleges:\n",
            "   UNITID    OPEID  ...  FTFTPCTFLOAN_POOLED_SUPP SCUGFFN_POOLED\n",
            "0  100654   100200  ...                       NaN            NaN\n",
            "1  100663   105200  ...                       NaN            NaN\n",
            "2  100690  2503400  ...                       NaN            NaN\n",
            "3  100706   105500  ...                       NaN            NaN\n",
            "4  100724   100500  ...                       NaN            NaN\n",
            "\n",
            "[5 rows x 1986 columns]\n"
          ],
          "name": "stdout"
        }
      ]
    },
    {
      "cell_type": "markdown",
      "metadata": {
        "id": "NfWjW3MnIQtF"
      },
      "source": [
        "Look at the last 5 colleges"
      ]
    },
    {
      "cell_type": "code",
      "metadata": {
        "id": "xnq5PDVjeUt2",
        "outputId": "4de1845d-d566-4953-9710-eded1644ccdd",
        "colab": {
          "base_uri": "https://localhost:8080/",
          "height": 173
        }
      },
      "source": [
        "#prints the last 5 colleges\n",
        "print(\"These are the last five colleges:\")\n",
        "print(data.tail())\n",
        "\n",
        "#this code only prints the name\n",
        "#for x in range(1,6):\n",
        " # print(data['INSTNM'].iloc[-x])"
      ],
      "execution_count": 5,
      "outputs": [
        {
          "output_type": "stream",
          "text": [
            "These are the last five colleges:\n",
            "        UNITID    OPEID  ...  FTFTPCTFLOAN_POOLED_SUPP SCUGFFN_POOLED\n",
            "7107  48312404   108163  ...                       NaN            NaN\n",
            "7108  48387801  4223701  ...                       NaN            NaN\n",
            "7109  48400201  4228101  ...                       NaN            NaN\n",
            "7110  48778201  4221501  ...                       NaN            NaN\n",
            "7111  49005401  4182601  ...                       NaN            NaN\n",
            "\n",
            "[5 rows x 1986 columns]\n"
          ],
          "name": "stdout"
        }
      ]
    },
    {
      "cell_type": "markdown",
      "metadata": {
        "id": "r7uuh3WmITyF"
      },
      "source": [
        "Look at a random sample of 5 colleges"
      ]
    },
    {
      "cell_type": "code",
      "metadata": {
        "id": "kEDsi1AkeU16",
        "outputId": "eb3ed0f6-a651-430f-d454-428f57bcef56",
        "colab": {
          "base_uri": "https://localhost:8080/",
          "height": 381
        }
      },
      "source": [
        "#prints 5 random colleges\n",
        "print(\"These are five random colleges:\")\n",
        "for x in range(5):\n",
        "  print(data.sample())\n",
        "\n",
        "#this code only prints the name\n",
        "#for x in range(5):\n",
        "  #print(data['INSTNM'].iloc[randint(0,7112)])"
      ],
      "execution_count": 20,
      "outputs": [
        {
          "output_type": "stream",
          "text": [
            "These are five random colleges:\n",
            "      UNITID   OPEID  ...  FTFTPCTFLOAN_POOLED_SUPP SCUGFFN_POOLED\n",
            "2374  194763  397800  ...                       NaN            NaN\n",
            "\n",
            "[1 rows x 1986 columns]\n",
            "      UNITID    OPEID  ...  FTFTPCTFLOAN_POOLED_SUPP SCUGFFN_POOLED\n",
            "5748  460011  3052301  ...                       NaN            NaN\n",
            "\n",
            "[1 rows x 1986 columns]\n",
            "      UNITID    OPEID  ...  FTFTPCTFLOAN_POOLED_SUPP SCUGFFN_POOLED\n",
            "6336  484899  4194501  ...                       NaN            NaN\n",
            "\n",
            "[1 rows x 1986 columns]\n",
            "      UNITID    OPEID  ...  FTFTPCTFLOAN_POOLED_SUPP SCUGFFN_POOLED\n",
            "4619  420440  3122900  ...                       NaN            NaN\n",
            "\n",
            "[1 rows x 1986 columns]\n",
            "      UNITID    OPEID  ...  FTFTPCTFLOAN_POOLED_SUPP SCUGFFN_POOLED\n",
            "2832  207157  1026600  ...                       NaN            NaN\n",
            "\n",
            "[1 rows x 1986 columns]\n"
          ],
          "name": "stdout"
        }
      ]
    },
    {
      "cell_type": "markdown",
      "metadata": {
        "id": "UCeP0UXNIoSn"
      },
      "source": [
        "7. Since there are too many variables to explore, many of which are not interesting. Create a smaller data frame with the following 9 variables:\n",
        "\n",
        "*   UNITID\n",
        "*   INSTNM\n",
        "*   CITY\n",
        "*   STABBR\n",
        "*   ZIP\n",
        "*   ADM_RATE\n",
        "*   UGDS\n",
        "*   TUITIONFEE_IN\n",
        "*   MN_EARN_WNE_P10"
      ]
    },
    {
      "cell_type": "code",
      "metadata": {
        "id": "1MBqdYzceU6U"
      },
      "source": [
        "#creates a smaller data frame with variables below\n",
        "new_df = data.filter(['UNITID', 'INSTNM','CITY','STABBR','ZIP','ADM_RATE','UGDS','TUITIONFEE_IN','MN_EARN_WNE_P10'], axis=1)"
      ],
      "execution_count": 10,
      "outputs": []
    },
    {
      "cell_type": "markdown",
      "metadata": {
        "id": "UAvlTucSJYne"
      },
      "source": [
        "8. Download and read the data dictionary file - https://collegescorecard.ed.gov/assets/CollegeScorecardDataDictionary.xlsx\n",
        "\n",
        "9. Find out the definition of the above 9 variables and document the definitions in the Jupyter Notebook in a Markdown cell so that the readers of your notebook will know the meaning of these variables."
      ]
    },
    {
      "cell_type": "markdown",
      "metadata": {
        "id": "fKvQQUv7I6Rw"
      },
      "source": [
        "Meaning of the variables:\n",
        "\n",
        "UNITID - Unit ID for institution\n",
        "\n",
        "INSTNM - Institution name\n",
        "\n",
        "CITY - City where the institution is located\n",
        "\n",
        "STABBR - State postcode where the institution is located\n",
        "\n",
        "ZIP - Zip code where the instutition is located\n",
        "\n",
        "ADM_RATE - Overall admission rate\n",
        "\n",
        "UGDS - Enrollment of undergraduate certificate/degree-seeking students\n",
        "\n",
        "TUITIONFEE_IN - In-state tuition and fees\n",
        "\n",
        "MN_EARN_WNE_P10 - Median earning of students working and not enrolled 10 years after entry"
      ]
    },
    {
      "cell_type": "markdown",
      "metadata": {
        "id": "I0HdwF9gJwHJ"
      },
      "source": [
        "10. Explore the smaller data frame\n",
        "\n",
        "Look at the first 10 colleges"
      ]
    },
    {
      "cell_type": "code",
      "metadata": {
        "id": "ddqn4W0DeU9S",
        "outputId": "ba979954-ae76-4f6b-c054-664941289b6b",
        "colab": {
          "base_uri": "https://localhost:8080/",
          "height": 260
        }
      },
      "source": [
        "#prints the first 10 colleges of the new data frame\n",
        "print(\"These are the first ten colleges:\")\n",
        "print(new_df.head(10))\n",
        "\n",
        "#this code only prints the name\n",
        "#for x in range(10):\n",
        "  #print(new_df['INSTNM'].iloc[x])"
      ],
      "execution_count": 11,
      "outputs": [
        {
          "output_type": "stream",
          "text": [
            "These are the first ten colleges:\n",
            "   UNITID                               INSTNM  ... TUITIONFEE_IN MN_EARN_WNE_P10\n",
            "0  100654             Alabama A & M University  ...        9857.0             NaN\n",
            "1  100663  University of Alabama at Birmingham  ...        8328.0             NaN\n",
            "2  100690                   Amridge University  ...        6900.0             NaN\n",
            "3  100706  University of Alabama in Huntsville  ...       10280.0             NaN\n",
            "4  100724             Alabama State University  ...       11068.0             NaN\n",
            "5  100751            The University of Alabama  ...       10780.0             NaN\n",
            "6  100760    Central Alabama Community College  ...        4440.0             NaN\n",
            "7  100812              Athens State University  ...           NaN             NaN\n",
            "8  100830      Auburn University at Montgomery  ...        8020.0             NaN\n",
            "9  100858                    Auburn University  ...       10968.0             NaN\n",
            "\n",
            "[10 rows x 9 columns]\n"
          ],
          "name": "stdout"
        }
      ]
    },
    {
      "cell_type": "markdown",
      "metadata": {
        "id": "XWvNCoa6J5GD"
      },
      "source": [
        "Look at the last 10 colleges"
      ]
    },
    {
      "cell_type": "code",
      "metadata": {
        "id": "v6P5xuxJeVAw",
        "outputId": "d33c845a-7d55-4046-920e-110d198cf4a4",
        "colab": {
          "base_uri": "https://localhost:8080/",
          "height": 260
        }
      },
      "source": [
        "#prints the last 10 colleges of the new data frame\n",
        "print(\"These are the last ten colleges:\")\n",
        "print(new_df.tail(10))\n",
        "\n",
        "#this code only prints the name\n",
        "#for x in range(1,11):\n",
        "  #print(new_df['INSTNM'].iloc[-x])"
      ],
      "execution_count": 12,
      "outputs": [
        {
          "output_type": "stream",
          "text": [
            "These are the last ten colleges:\n",
            "        UNITID  ... MN_EARN_WNE_P10\n",
            "7102  48154401  ...             NaN\n",
            "7103  48305401  ...             NaN\n",
            "7104  48312401  ...             NaN\n",
            "7105  48312402  ...             NaN\n",
            "7106  48312403  ...             NaN\n",
            "7107  48312404  ...             NaN\n",
            "7108  48387801  ...             NaN\n",
            "7109  48400201  ...             NaN\n",
            "7110  48778201  ...             NaN\n",
            "7111  49005401  ...             NaN\n",
            "\n",
            "[10 rows x 9 columns]\n"
          ],
          "name": "stdout"
        }
      ]
    },
    {
      "cell_type": "markdown",
      "metadata": {
        "id": "7yVaSTp7KZq3"
      },
      "source": [
        "Look at a random sample of 10 colleges"
      ]
    },
    {
      "cell_type": "code",
      "metadata": {
        "id": "NgyxfNysfFFw",
        "outputId": "2db98632-7781-4d01-ece4-74e9da20d648",
        "colab": {
          "base_uri": "https://localhost:8080/",
          "height": 728
        }
      },
      "source": [
        "#prints 10 random colleges of the new data\n",
        "print(\"These are ten random colleges:\")\n",
        "for x in range(10):\n",
        "  print(new_df.sample())\n",
        "\n",
        "#this code only prints the name\n",
        "#for x in range(10):\n",
        "  #print(new_df['INSTNM'].iloc[randint(0,7112)])"
      ],
      "execution_count": 21,
      "outputs": [
        {
          "output_type": "stream",
          "text": [
            "These are ten random colleges:\n",
            "     UNITID                INSTNM  ... TUITIONFEE_IN MN_EARN_WNE_P10\n",
            "388  118994  Moler Barber College  ...           NaN             NaN\n",
            "\n",
            "[1 rows x 9 columns]\n",
            "      UNITID             INSTNM  ... TUITIONFEE_IN MN_EARN_WNE_P10\n",
            "1126  151810  Martin University  ...       13200.0             NaN\n",
            "\n",
            "[1 rows x 9 columns]\n",
            "      UNITID                     INSTNM  ... TUITIONFEE_IN MN_EARN_WNE_P10\n",
            "2747  204617  Ohio Dominican University  ...       31080.0             NaN\n",
            "\n",
            "[1 rows x 9 columns]\n",
            "      UNITID  ... MN_EARN_WNE_P10\n",
            "4315  382258  ...             NaN\n",
            "\n",
            "[1 rows x 9 columns]\n",
            "      UNITID             INSTNM  ... TUITIONFEE_IN MN_EARN_WNE_P10\n",
            "4388  402563  Delta College Inc  ...           NaN             NaN\n",
            "\n",
            "[1 rows x 9 columns]\n",
            "      UNITID                          INSTNM  ... TUITIONFEE_IN MN_EARN_WNE_P10\n",
            "3127  215585  Reading Area Community College  ...        5460.0             NaN\n",
            "\n",
            "[1 rows x 9 columns]\n",
            "      UNITID                          INSTNM  ... TUITIONFEE_IN MN_EARN_WNE_P10\n",
            "3037  213446  Lancaster Theological Seminary  ...           NaN             NaN\n",
            "\n",
            "[1 rows x 9 columns]\n",
            "      UNITID  ... MN_EARN_WNE_P10\n",
            "4539  417983  ...             NaN\n",
            "\n",
            "[1 rows x 9 columns]\n",
            "      UNITID  ... MN_EARN_WNE_P10\n",
            "2646  201539  ...             NaN\n",
            "\n",
            "[1 rows x 9 columns]\n",
            "      UNITID             INSTNM  ... TUITIONFEE_IN MN_EARN_WNE_P10\n",
            "3190  217165  Bryant University  ...       42109.0             NaN\n",
            "\n",
            "[1 rows x 9 columns]\n"
          ],
          "name": "stdout"
        }
      ]
    },
    {
      "cell_type": "markdown",
      "metadata": {
        "id": "J1VIfTf7KpHY"
      },
      "source": [
        "Find and display UMBC\n",
        "\n",
        "Find Univ. of Maryland College Park\n",
        "\n",
        "Find and display Loyola College Maryland\n",
        "\n",
        "Find and display Johns Hopskins"
      ]
    },
    {
      "cell_type": "code",
      "metadata": {
        "id": "RvTR9rhXfFPU",
        "outputId": "e07be119-9643-4d1f-b0ac-22e1ac57e5ef",
        "colab": {
          "base_uri": "https://localhost:8080/",
          "height": 364
        }
      },
      "source": [
        "#finds and displays specific colleges\n",
        "uni_list = []\n",
        "  \n",
        "print(end='\\n')\n",
        "index_value = new_df[new_df['INSTNM'] == 'University of Maryland-Baltimore County'].index.values\n",
        "print(new_df.loc[index_value])\n",
        "uni_list.append(int(new_df['TUITIONFEE_IN'].iloc[index_value]))\n",
        "\n",
        "print(end='\\n')\n",
        "index_value1 = new_df[new_df['INSTNM'] == 'University of Maryland-College Park'].index.values\n",
        "print(new_df.loc[index_value1])\n",
        "uni_list.append(int(new_df['TUITIONFEE_IN'].iloc[index_value1]))\n",
        "\n",
        "print(end='\\n')\n",
        "index_value2 = new_df[new_df['INSTNM'] == 'Loyola University Maryland'].index.values\n",
        "print(new_df.loc[index_value2])\n",
        "uni_list.append(int(new_df['TUITIONFEE_IN'].iloc[index_value2]))\n",
        "\n",
        "print(end='\\n')\n",
        "index_value3 = new_df[new_df['INSTNM'] == 'Johns Hopkins University'].index.values\n",
        "print(new_df.loc[index_value3])\n",
        "uni_list.append(int(new_df['TUITIONFEE_IN'].iloc[index_value3]))"
      ],
      "execution_count": 15,
      "outputs": [
        {
          "output_type": "stream",
          "text": [
            "\n",
            "      UNITID  ... MN_EARN_WNE_P10\n",
            "1478  163268  ...             NaN\n",
            "\n",
            "[1 rows x 9 columns]\n",
            "\n",
            "      UNITID  ... MN_EARN_WNE_P10\n",
            "1479  163286  ...             NaN\n",
            "\n",
            "[1 rows x 9 columns]\n",
            "\n",
            "      UNITID                      INSTNM  ... TUITIONFEE_IN MN_EARN_WNE_P10\n",
            "1475  163046  Loyola University Maryland  ...       47560.0             NaN\n",
            "\n",
            "[1 rows x 9 columns]\n",
            "\n",
            "      UNITID                    INSTNM  ... TUITIONFEE_IN MN_EARN_WNE_P10\n",
            "1473  162928  Johns Hopkins University  ...       52170.0             NaN\n",
            "\n",
            "[1 rows x 9 columns]\n"
          ],
          "name": "stdout"
        }
      ]
    },
    {
      "cell_type": "markdown",
      "metadata": {
        "id": "mO8-DJCzK6Z9"
      },
      "source": [
        "Calculate the min, max, and average in-state tution of the above four institutions."
      ]
    },
    {
      "cell_type": "code",
      "metadata": {
        "id": "dQN39RRFfFWS",
        "outputId": "1d2a2f3a-d786-4e4e-e9d6-88e459a1235a",
        "colab": {
          "base_uri": "https://localhost:8080/",
          "height": 69
        }
      },
      "source": [
        "#calculate the min, max, average in-state tuition for those colleges\n",
        "print(\"The minimum in-state tuition out of those colleges is $\" , min(uni_list))\n",
        "print(\"The maximum in-state tuition out of those colleges is $\" , max(uni_list))\n",
        "print(\"The average in-state tuition out of those colleges is $\" , np.average(uni_list))"
      ],
      "execution_count": 16,
      "outputs": [
        {
          "output_type": "stream",
          "text": [
            "The minimum in-state tuition out of those colleges is $ 10399\n",
            "The maximum in-state tuition out of those colleges is $ 52170\n",
            "The average in-state tuition out of those colleges is $ 30411.75\n"
          ],
          "name": "stdout"
        }
      ]
    },
    {
      "cell_type": "markdown",
      "metadata": {
        "id": "KtSunZeRLCIy"
      },
      "source": [
        "11. Filter the smaller dataset further to only keep colleges from Maryland, Virgina, Washington DC, Delaware, and Pennsylvinia. Save the filtered dataset to a new file named \"Five_States_Colleges.csv\" for future analysis. Upload this file to your GitHub along with the notebook."
      ]
    },
    {
      "cell_type": "code",
      "metadata": {
        "id": "PlJVpRQ5fFdX",
        "outputId": "17ad68b4-38b9-409e-d52f-c1d7b5ace962",
        "colab": {
          "base_uri": "https://localhost:8080/",
          "height": 35
        }
      },
      "source": [
        "#creates a csv file\n",
        "new_delmarvapadc = new_df.loc[(new_df['STABBR'] =='DE')]\n",
        "new_delmarvapadc = new_delmarvapadc.append(new_df.loc[(new_df['STABBR'] =='MD')])\n",
        "new_delmarvapadc = new_delmarvapadc.append(new_df.loc[(new_df['STABBR'] =='VA')])\n",
        "new_delmarvapadc = new_delmarvapadc.append(new_df.loc[(new_df['STABBR'] =='PA')])\n",
        "new_delmarvapadc = new_delmarvapadc.append(new_df.loc[(new_df['STABBR'] =='DC')])\n",
        "  \n",
        "new_delmarvapadc.to_csv(\"Five_States_Colleges.csv\")\n",
        "  \n",
        "print(\"File created!\")"
      ],
      "execution_count": 19,
      "outputs": [
        {
          "output_type": "stream",
          "text": [
            "File created!\n"
          ],
          "name": "stdout"
        }
      ]
    }
  ]
}