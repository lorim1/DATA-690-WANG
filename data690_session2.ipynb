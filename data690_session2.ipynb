{
  "nbformat": 4,
  "nbformat_minor": 0,
  "metadata": {
    "colab": {
      "name": "data690_session2.ipynb",
      "provenance": [],
      "authorship_tag": "ABX9TyMS8NeCz0atNDP52maD4yWb",
      "include_colab_link": true
    },
    "kernelspec": {
      "name": "python3",
      "display_name": "Python 3"
    }
  },
  "cells": [
    {
      "cell_type": "markdown",
      "metadata": {
        "id": "view-in-github",
        "colab_type": "text"
      },
      "source": [
        "<a href=\"https://colab.research.google.com/github/lorim1/DATA-690-WANG/blob/master/data690_session2.ipynb\" target=\"_parent\"><img src=\"https://colab.research.google.com/assets/colab-badge.svg\" alt=\"Open In Colab\"/></a>"
      ]
    },
    {
      "cell_type": "markdown",
      "metadata": {
        "id": "uX1A2nSBYr3y",
        "colab_type": "text"
      },
      "source": [
        "# This is a test notebook"
      ]
    },
    {
      "cell_type": "code",
      "metadata": {
        "id": "h5TB0abmYJuM",
        "colab_type": "code",
        "colab": {
          "base_uri": "https://localhost:8080/",
          "height": 52
        },
        "outputId": "ae87393d-ce22-4173-f07c-2fcb111062cc"
      },
      "source": [
        "age = input (\"your age?\")\n",
        "print(\"hello world\", age)"
      ],
      "execution_count": 1,
      "outputs": [
        {
          "output_type": "stream",
          "text": [
            "your age?23\n",
            "hello world 23\n"
          ],
          "name": "stdout"
        }
      ]
    },
    {
      "cell_type": "markdown",
      "metadata": {
        "id": "eL2W2Q2Ha2wZ",
        "colab_type": "text"
      },
      "source": [
        "# Learn Python Data Types"
      ]
    },
    {
      "cell_type": "code",
      "metadata": {
        "id": "jY3ZkBZ4a7SR",
        "colab_type": "code",
        "colab": {}
      },
      "source": [
        ""
      ],
      "execution_count": null,
      "outputs": []
    }
  ]
}