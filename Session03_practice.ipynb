{
  "nbformat": 4,
  "nbformat_minor": 0,
  "metadata": {
    "colab": {
      "name": "Session03_practice.ipynb",
      "provenance": []
    },
    "kernelspec": {
      "name": "python3",
      "display_name": "Python 3"
    }
  },
  "cells": [
    {
      "cell_type": "markdown",
      "metadata": {
        "id": "9bhd-A1Ya9sR",
        "colab_type": "text"
      },
      "source": [
        "1) To come up with a list of people's first name\n",
        "2) and find out how many people are in the class"
      ]
    },
    {
      "cell_type": "code",
      "metadata": {
        "id": "mQeyGFM6adQH",
        "colab_type": "code",
        "colab": {
          "base_uri": "https://localhost:8080/",
          "height": 505
        },
        "outputId": "477ff5c6-5e49-4ae4-e266-b91709ae121f"
      },
      "source": [
        "people_list = \"Wang, Chaojie; Seelam, Arjun Reddy; Rius, Jonathan; Liang, Jinqing; Chowdhury, Debanjan; Maszkiewicz, Lori; Negussie, Neftalem; Steinruck, Michaella; Phogat, Shreshta; Fatima, Misha; Hirabayashi, Scott; Soroush, Masoud; Bolz, Jessica; Mbu Nyamsi, Tchuissi; Dokuzoglu, Yuksel; Gogineni, Shailesh; Pabbisetty, Sai Vinay; Preis, Liam; Jyesta, Vishnu Priya; Narne, Yoshita; Boban, Shruthi; Oberoi, Ashreen Kaur; Cohens, Nashika; Noppinger, Ken; Kakani, Goutham; Hayo, Alyssa\"\n",
        "print(people_list)\n",
        "\n",
        "#splits the whole string into individual people\n",
        "people_fullname = people_list.split(\";\")\n",
        "print(people_fullname)\n",
        "\n",
        "#splits the first name from the last name\n",
        "for x in range (0,25):\n",
        "  people_firstname[x] = people_fullname[x].split(\", \")\n",
        "  print(people_firstname[x])\n",
        "  \n",
        "\n"
      ],
      "execution_count": 20,
      "outputs": [
        {
          "output_type": "stream",
          "text": [
            "Wang, Chaojie; Seelam, Arjun Reddy; Rius, Jonathan; Liang, Jinqing; Chowdhury, Debanjan; Maszkiewicz, Lori; Negussie, Neftalem; Steinruck, Michaella; Phogat, Shreshta; Fatima, Misha; Hirabayashi, Scott; Soroush, Masoud; Bolz, Jessica; Mbu Nyamsi, Tchuissi; Dokuzoglu, Yuksel; Gogineni, Shailesh; Pabbisetty, Sai Vinay; Preis, Liam; Jyesta, Vishnu Priya; Narne, Yoshita; Boban, Shruthi; Oberoi, Ashreen Kaur; Cohens, Nashika; Noppinger, Ken; Kakani, Goutham; Hayo, Alyssa\n",
            "['Wang, Chaojie', ' Seelam, Arjun Reddy', ' Rius, Jonathan', ' Liang, Jinqing', ' Chowdhury, Debanjan', ' Maszkiewicz, Lori', ' Negussie, Neftalem', ' Steinruck, Michaella', ' Phogat, Shreshta', ' Fatima, Misha', ' Hirabayashi, Scott', ' Soroush, Masoud', ' Bolz, Jessica', ' Mbu Nyamsi, Tchuissi', ' Dokuzoglu, Yuksel', ' Gogineni, Shailesh', ' Pabbisetty, Sai Vinay', ' Preis, Liam', ' Jyesta, Vishnu Priya', ' Narne, Yoshita', ' Boban, Shruthi', ' Oberoi, Ashreen Kaur', ' Cohens, Nashika', ' Noppinger, Ken', ' Kakani, Goutham', ' Hayo, Alyssa']\n",
            "['Wang', 'Chaojie']\n",
            "[' Seelam', 'Arjun Reddy']\n",
            "[' Rius', 'Jonathan']\n",
            "[' Liang', 'Jinqing']\n",
            "[' Chowdhury', 'Debanjan']\n",
            "[' Maszkiewicz', 'Lori']\n",
            "[' Negussie', 'Neftalem']\n",
            "[' Steinruck', 'Michaella']\n",
            "[' Phogat', 'Shreshta']\n",
            "[' Fatima', 'Misha']\n",
            "[' Hirabayashi', 'Scott']\n",
            "[' Soroush', 'Masoud']\n",
            "[' Bolz', 'Jessica']\n",
            "[' Mbu Nyamsi', 'Tchuissi']\n",
            "[' Dokuzoglu', 'Yuksel']\n",
            "[' Gogineni', 'Shailesh']\n",
            "[' Pabbisetty', 'Sai Vinay']\n",
            "[' Preis', 'Liam']\n",
            "[' Jyesta', 'Vishnu Priya']\n",
            "[' Narne', 'Yoshita']\n",
            "[' Boban', 'Shruthi']\n",
            "[' Oberoi', 'Ashreen Kaur']\n",
            "[' Cohens', 'Nashika']\n",
            "[' Noppinger', 'Ken']\n",
            "[' Kakani', 'Goutham']\n"
          ],
          "name": "stdout"
        }
      ]
    }
  ]
}