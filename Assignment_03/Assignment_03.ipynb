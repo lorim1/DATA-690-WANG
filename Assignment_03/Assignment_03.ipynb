{
 "cells": [
  {
   "cell_type": "code",
   "execution_count": 53,
   "metadata": {},
   "outputs": [
    {
     "name": "stdout",
     "output_type": "stream",
     "text": [
      "0 9 3 3 5 1 6 7 3 8 \n",
      "8 2 4 1 5 9 6 2 3 5 \n",
      "9 9 3 2 2 5 1 0 8 8 \n",
      "9 2 0 2 3 6 2 9 6 3 \n",
      "4 5 2 1 4 6 9 5 5 7 \n",
      "1 0 1 9 7 0 3 7 2 7 \n",
      "0 0 5 1 3 8 9 3 4 7 \n",
      "3 5 9 9 5 4 6 5 5 4 \n",
      "8 2 3 7 8 1 3 9 8 4 \n",
      "4 2 4 5 2 9 6 9 9 9 \n"
     ]
    }
   ],
   "source": [
    "from random import randint\n",
    "\n",
    "#creates 10 lists with 10 elements in each\n",
    "for y in range(10):\n",
    "    for x in range(10):\n",
    "        list[x] = (randint(0,9))\n",
    "    \n",
    "        print(list[x],end = \" \")\n",
    "    print(end='\\n') "
   ]
  },
  {
   "cell_type": "code",
   "execution_count": 54,
   "metadata": {},
   "outputs": [
    {
     "name": "stdout",
     "output_type": "stream",
     "text": [
      "@ 6 0 8 @ 4 4 0 8 6 \n",
      "8 @ 8 6 6 @ 8 @ @ @ \n",
      "0 @ 0 4 @ @ @ 8 @ 0 \n",
      "@ 4 4 @ 4 @ 4 @ @ 2 \n",
      "@ 0 @ @ @ @ 8 6 @ 6 \n",
      "2 6 @ 2 @ 8 4 6 @ 6 \n",
      "@ 6 @ @ 6 @ @ @ @ @ \n",
      "4 6 @ @ @ 8 2 @ @ @ \n",
      "@ @ @ 2 2 @ @ @ @ 2 \n",
      "0 0 6 @ @ 6 0 @ 4 @ \n"
     ]
    }
   ],
   "source": [
    "#prints a matrix with odd numbers being @\n",
    "for y in range(10):\n",
    "    for x in range(10):\n",
    "        list[x] = (randint(0,9))\n",
    "        \n",
    "        if list[x] % 2 == 0:\n",
    "            print(list[x],end = \" \")\n",
    "        \n",
    "        else:\n",
    "            list[x] = (\"@\")\n",
    "            print(list[x],end = \" \")\n",
    "            \n",
    "    print(end='\\n') "
   ]
  },
  {
   "cell_type": "code",
   "execution_count": 58,
   "metadata": {},
   "outputs": [
    {
     "name": "stdout",
     "output_type": "stream",
     "text": [
      "3 2 9 1 3 4 4 0 1 7 * 34\n",
      "2 6 9 8 0 5 2 6 7 5 * 50\n",
      "0 5 2 4 2 3 0 4 6 5 * 31\n",
      "8 9 2 7 9 4 4 2 0 6 * 51\n",
      "5 2 1 9 2 9 9 1 9 0 * 47\n",
      "4 2 5 5 5 9 8 8 0 5 * 51\n",
      "6 2 5 4 7 9 8 6 6 5 * 58\n",
      "7 9 6 7 0 5 8 8 1 9 * 60\n",
      "4 3 4 3 5 9 1 7 2 7 * 45\n",
      "1 9 1 9 4 4 7 4 8 8 * 55\n"
     ]
    }
   ],
   "source": [
    "#calculates and prints the total from each row\n",
    "for y in range(10):\n",
    "    sum = 0\n",
    "    for x in range(10):\n",
    "        list[x] = (randint(0,9))\n",
    "        sum = list[x] + sum\n",
    "        print(list[x],end = \" \")\n",
    "    \n",
    "            \n",
    "    print(\"*\", sum, end='\\n') "
   ]
  },
  {
   "cell_type": "code",
   "execution_count": null,
   "metadata": {},
   "outputs": [],
   "source": []
  }
 ],
 "metadata": {
  "kernelspec": {
   "display_name": "Python 3",
   "language": "python",
   "name": "python3"
  },
  "language_info": {
   "codemirror_mode": {
    "name": "ipython",
    "version": 3
   },
   "file_extension": ".py",
   "mimetype": "text/x-python",
   "name": "python",
   "nbconvert_exporter": "python",
   "pygments_lexer": "ipython3",
   "version": "3.8.1"
  }
 },
 "nbformat": 4,
 "nbformat_minor": 4
}
