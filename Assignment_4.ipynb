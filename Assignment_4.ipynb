{
  "nbformat": 4,
  "nbformat_minor": 0,
  "metadata": {
    "colab": {
      "name": "Assignment_4.ipynb",
      "provenance": []
    },
    "kernelspec": {
      "name": "python3",
      "display_name": "Python 3"
    }
  },
  "cells": [
    {
      "cell_type": "code",
      "metadata": {
        "id": "G-b7vegCkqkK",
        "colab_type": "code",
        "colab": {
          "base_uri": "https://localhost:8080/",
          "height": 54
        },
        "outputId": "afa31287-1d34-4ff6-b48e-d77338f384ab"
      },
      "source": [
        "#this will open and read the text file\n",
        "with open(\"census_cost.txt\" , \"rt\") as f:\n",
        "    line_list = f.readlines()\n",
        "\n",
        "#print the lines\n",
        "print(line_list)"
      ],
      "execution_count": null,
      "outputs": [
        {
          "output_type": "stream",
          "text": [
            "['Source: https://www.genealogybranches.com/censuscosts.html\\n', 'Census Year\\tTotal Population\\tCensus Cost\\tAverage Cost Per Person\\n', '1790\\t3,929,214\\t$44,377\\t1.13 cents\\n', '1800\\t5,308,483\\t$66,109\\t1.24 cents\\n', '1810\\t7,239,881\\t$178,445\\t2.46 cents\\n', '1820\\t9,633,822\\t$208,526\\t2.16 cents\\n', '1830\\t12,866,020\\t$378,545\\t2.94 cents\\n', '1840\\t17,069,458\\t$833,371\\t4.88 cents\\n', '1850\\t23,191,876\\t$1,423,351\\t6.14 cents\\n', '1860\\t31,443,321\\t$1,969,377\\t6.26 cents\\n', '1870\\t38,558,371\\t$3,421,198\\t8.87 cents\\n', '1880\\t50,155,783\\t$5,790,678\\t11.54 cents\\n', '1890\\t62,979,766\\t$11,547,127\\t18.33 cents\\n', '1900\\t76,303,387\\t$11,854,000\\t15.54 cents\\n', '1910\\t91,972,266\\t$15,968,000\\t17.07 cents\\n', '1920\\t105,710,620\\t$25,117,000\\t23.76 cents\\n', '1930\\t122,775,046\\t$40,156,000\\t32.71 cents\\n', '1940\\t131,669,275\\t$67,527,000\\t51.29 cents\\n', '1950\\t151,325,798\\t$91,462,000\\t60.44 cents\\n', '1960\\t179,323,175\\t$127,934,000\\t71.34 cents\\n', '1970\\t203,302,031\\t$247,653,000\\t$1.22\\n', '1980\\t226,542,199\\t$1,078,488,000\\t$4.76\\n', '1990\\t248,718,301\\t$2,492,830,000\\t$10.02\\n', '2000\\t281,421,906\\t$4.5 Billion\\t$15.99\\n', '2010*\\t308,745,538\\t$13 Billion\\t$42.11']\n"
          ],
          "name": "stdout"
        }
      ]
    },
    {
      "cell_type": "code",
      "metadata": {
        "id": "pCqT4X0ulO9E",
        "colab_type": "code",
        "colab": {
          "base_uri": "https://localhost:8080/",
          "height": 850
        },
        "outputId": "d77ab0b5-1e44-4bc6-e67d-118e72929e50"
      },
      "source": [
        "#displays the data in a neat table\n",
        "for row in line_list:\n",
        "  print(row)"
      ],
      "execution_count": null,
      "outputs": [
        {
          "output_type": "stream",
          "text": [
            "Source: https://www.genealogybranches.com/censuscosts.html\n",
            "\n",
            "Census Year\tTotal Population\tCensus Cost\tAverage Cost Per Person\n",
            "\n",
            "1790\t3,929,214\t$44,377\t1.13 cents\n",
            "\n",
            "1800\t5,308,483\t$66,109\t1.24 cents\n",
            "\n",
            "1810\t7,239,881\t$178,445\t2.46 cents\n",
            "\n",
            "1820\t9,633,822\t$208,526\t2.16 cents\n",
            "\n",
            "1830\t12,866,020\t$378,545\t2.94 cents\n",
            "\n",
            "1840\t17,069,458\t$833,371\t4.88 cents\n",
            "\n",
            "1850\t23,191,876\t$1,423,351\t6.14 cents\n",
            "\n",
            "1860\t31,443,321\t$1,969,377\t6.26 cents\n",
            "\n",
            "1870\t38,558,371\t$3,421,198\t8.87 cents\n",
            "\n",
            "1880\t50,155,783\t$5,790,678\t11.54 cents\n",
            "\n",
            "1890\t62,979,766\t$11,547,127\t18.33 cents\n",
            "\n",
            "1900\t76,303,387\t$11,854,000\t15.54 cents\n",
            "\n",
            "1910\t91,972,266\t$15,968,000\t17.07 cents\n",
            "\n",
            "1920\t105,710,620\t$25,117,000\t23.76 cents\n",
            "\n",
            "1930\t122,775,046\t$40,156,000\t32.71 cents\n",
            "\n",
            "1940\t131,669,275\t$67,527,000\t51.29 cents\n",
            "\n",
            "1950\t151,325,798\t$91,462,000\t60.44 cents\n",
            "\n",
            "1960\t179,323,175\t$127,934,000\t71.34 cents\n",
            "\n",
            "1970\t203,302,031\t$247,653,000\t$1.22\n",
            "\n",
            "1980\t226,542,199\t$1,078,488,000\t$4.76\n",
            "\n",
            "1990\t248,718,301\t$2,492,830,000\t$10.02\n",
            "\n",
            "2000\t281,421,906\t$4.5 Billion\t$15.99\n",
            "\n",
            "2010*\t308,745,538\t$13 Billion\t$42.11\n"
          ],
          "name": "stdout"
        }
      ]
    },
    {
      "cell_type": "code",
      "metadata": {
        "id": "wJ6kOaZklmFn",
        "colab_type": "code",
        "colab": {
          "base_uri": "https://localhost:8080/",
          "height": 34
        },
        "outputId": "e9b51ede-70f3-42af-e085-2c9e42f789e3"
      },
      "source": [
        "#save only the data elements to a new file\n",
        "with open(\"new_file.txt\" , \"wt\") as f:\n",
        "  for line in line_list[2:25]:\n",
        "    f.write(line)\n",
        "\n",
        "print()"
      ],
      "execution_count": null,
      "outputs": [
        {
          "output_type": "stream",
          "text": [
            "\n"
          ],
          "name": "stdout"
        }
      ]
    },
    {
      "cell_type": "code",
      "metadata": {
        "id": "Eb-sZLLjm27V",
        "colab_type": "code",
        "colab": {
          "base_uri": "https://localhost:8080/",
          "height": 54
        },
        "outputId": "50995f65-a0fd-4c76-eabd-ecd00dbb188d"
      },
      "source": [
        "#puts the first two lines in a seperate list and prints them\n",
        "top2_list = []\n",
        "for line in line_list[0:2]:\n",
        "  top2_list.append(line)\n",
        "\n",
        "print(top2_list)"
      ],
      "execution_count": null,
      "outputs": [
        {
          "output_type": "stream",
          "text": [
            "['Source: https://www.genealogybranches.com/censuscosts.html\\n', 'Census Year\\tTotal Population\\tCensus Cost\\tAverage Cost Per Person\\n']\n"
          ],
          "name": "stdout"
        }
      ]
    },
    {
      "cell_type": "code",
      "metadata": {
        "id": "1QvUS2lGnp4k",
        "colab_type": "code",
        "colab": {
          "base_uri": "https://localhost:8080/",
          "height": 54
        },
        "outputId": "2952917a-11a6-47b2-a5da-d6fc93f569ab"
      },
      "source": [
        "#puts the rest of the data in a list and prints them\n",
        "data_list = []\n",
        "for line in line_list[2:25]:\n",
        "  data_list.append(line.strip().split(\"\\t\"))\n",
        " \n",
        "print(data_list)"
      ],
      "execution_count": null,
      "outputs": [
        {
          "output_type": "stream",
          "text": [
            "[['1790', '3,929,214', '$44,377', '1.13 cents'], ['1800', '5,308,483', '$66,109', '1.24 cents'], ['1810', '7,239,881', '$178,445', '2.46 cents'], ['1820', '9,633,822', '$208,526', '2.16 cents'], ['1830', '12,866,020', '$378,545', '2.94 cents'], ['1840', '17,069,458', '$833,371', '4.88 cents'], ['1850', '23,191,876', '$1,423,351', '6.14 cents'], ['1860', '31,443,321', '$1,969,377', '6.26 cents'], ['1870', '38,558,371', '$3,421,198', '8.87 cents'], ['1880', '50,155,783', '$5,790,678', '11.54 cents'], ['1890', '62,979,766', '$11,547,127', '18.33 cents'], ['1900', '76,303,387', '$11,854,000', '15.54 cents'], ['1910', '91,972,266', '$15,968,000', '17.07 cents'], ['1920', '105,710,620', '$25,117,000', '23.76 cents'], ['1930', '122,775,046', '$40,156,000', '32.71 cents'], ['1940', '131,669,275', '$67,527,000', '51.29 cents'], ['1950', '151,325,798', '$91,462,000', '60.44 cents'], ['1960', '179,323,175', '$127,934,000', '71.34 cents'], ['1970', '203,302,031', '$247,653,000', '$1.22'], ['1980', '226,542,199', '$1,078,488,000', '$4.76'], ['1990', '248,718,301', '$2,492,830,000', '$10.02'], ['2000', '281,421,906', '$4.5 Billion', '$15.99'], ['2010*', '308,745,538', '$13 Billion', '$42.11']]\n"
          ],
          "name": "stdout"
        }
      ]
    },
    {
      "cell_type": "code",
      "metadata": {
        "id": "opMm2wmHOkst",
        "colab_type": "code",
        "colab": {
          "base_uri": "https://localhost:8080/",
          "height": 54
        },
        "outputId": "803e545b-bc11-4949-e6c6-6e720fe7a2cb"
      },
      "source": [
        "#takes the census year and assigns it into a new list\n",
        "year_list = []\n",
        "for line in data_list[0:]:\n",
        "  year_list.append(line[0])\n",
        "\n",
        "for x in range(0,23):\n",
        "  year_list[x] = year_list[x].replace(\"*\" , \"\")\n",
        "  \n",
        "print(year_list)"
      ],
      "execution_count": null,
      "outputs": [
        {
          "output_type": "stream",
          "text": [
            "['1790', '1800', '1810', '1820', '1830', '1840', '1850', '1860', '1870', '1880', '1890', '1900', '1910', '1920', '1930', '1940', '1950', '1960', '1970', '1980', '1990', '2000', '2010']\n"
          ],
          "name": "stdout"
        }
      ]
    },
    {
      "cell_type": "code",
      "metadata": {
        "id": "1Z20yHo9aCrX",
        "colab_type": "code",
        "colab": {
          "base_uri": "https://localhost:8080/",
          "height": 54
        },
        "outputId": "88304d81-5eab-4e50-97bd-5bbfb2d03ddd"
      },
      "source": [
        "#takes the population and assigns it into a new list\n",
        "pop_list = []\n",
        "for line in data_list[0:]:\n",
        "  pop_list.append(line[1])\n",
        "\n",
        "for x in range(0,23):\n",
        "  pop_list[x] = pop_list[x].replace(\",\" , \"\")\n",
        "\n",
        "print(pop_list)"
      ],
      "execution_count": null,
      "outputs": [
        {
          "output_type": "stream",
          "text": [
            "['3929214', '5308483', '7239881', '9633822', '12866020', '17069458', '23191876', '31443321', '38558371', '50155783', '62979766', '76303387', '91972266', '105710620', '122775046', '131669275', '151325798', '179323175', '203302031', '226542199', '248718301', '281421906', '308745538']\n"
          ],
          "name": "stdout"
        }
      ]
    },
    {
      "cell_type": "code",
      "metadata": {
        "id": "BXzNG2OgfI1L",
        "colab_type": "code",
        "colab": {
          "base_uri": "https://localhost:8080/",
          "height": 54
        },
        "outputId": "6f56f478-7f64-4536-f3ae-4d049e4dcb06"
      },
      "source": [
        "#takes the census cost and assigns it into a new list\n",
        "cost_list = []\n",
        "for line in data_list[0:]:\n",
        "  cost_list.append(line[2])\n",
        "\n",
        "for x in range(0,23):\n",
        "  cost_list[x] = cost_list[x].replace(\",\" , \"\")\n",
        "  cost_list[x] = cost_list[x].replace(\"$\" , \"\")\n",
        "  cost_list[x] = cost_list[x].replace(\".5 Billion\" , \"500000000\")\n",
        "  cost_list[x] = cost_list[x].replace(\" Billion\" , \"000000000\")\n",
        "\n",
        "print(cost_list)"
      ],
      "execution_count": null,
      "outputs": [
        {
          "output_type": "stream",
          "text": [
            "['44377', '66109', '178445', '208526', '378545', '833371', '1423351', '1969377', '3421198', '5790678', '11547127', '11854000', '15968000', '25117000', '40156000', '67527000', '91462000', '127934000', '247653000', '1078488000', '2492830000', '4500000000', '13000000000']\n"
          ],
          "name": "stdout"
        }
      ]
    },
    {
      "cell_type": "code",
      "metadata": {
        "id": "6V4f3NuxgL0C",
        "colab_type": "code",
        "colab": {
          "base_uri": "https://localhost:8080/",
          "height": 54
        },
        "outputId": "5b94880d-e17d-4e30-bff8-c05390dd2733"
      },
      "source": [
        "#takes the average cost per person and assigns it into a new list\n",
        "avg_list = []\n",
        "for line in data_list[0:]:\n",
        "  avg_list.append(line[3])\n",
        "\n",
        "for x in range(0,23):\n",
        "  avg_list[x] = avg_list[x].replace(\"$\" , \"\")\n",
        "  avg_list[x] = avg_list[x].replace(\" cents\" , \"\")\n",
        "\n",
        "for y in range(0,17):\n",
        "  avg_list[y] = round((float(avg_list[y])/100) , 4)\n",
        "  avg_list[y] = str(avg_list[y])\n",
        "\n",
        "print(avg_list)"
      ],
      "execution_count": null,
      "outputs": [
        {
          "output_type": "stream",
          "text": [
            "['0.0113', '0.0124', '0.0246', '0.0216', '0.0294', '0.0488', '0.0614', '0.0626', '0.0887', '0.1154', '0.1833', '0.1554', '0.1707', '0.2376', '0.3271', '0.5129', '0.6044', '71.34', '1.22', '4.76', '10.02', '15.99', '42.11']\n"
          ],
          "name": "stdout"
        }
      ]
    },
    {
      "cell_type": "code",
      "metadata": {
        "id": "bRkWS3xch733",
        "colab_type": "code",
        "colab": {
          "base_uri": "https://localhost:8080/",
          "height": 34
        },
        "outputId": "647e18bb-e6e0-4e58-bdd3-eb38a9c204ee"
      },
      "source": [
        "#puts all the cleaned data into one file\n",
        "import csv\n",
        "with open(\"census_cost.csv\" , \"w\" , newline = \"\\n\") as f:\n",
        "  f.write((top2_list[0]))\n",
        "  f.write(top2_list[1])\n",
        "  for x in range(0,23):\n",
        "   f.write((year_list[x]))\n",
        "   f.write(\" \")\n",
        "   f.write((pop_list[x]))\n",
        "   f.write(\" \")\n",
        "   f.write((cost_list[x]))\n",
        "   f.write(\" \")\n",
        "   f.write((avg_list[x]))\n",
        "   f.write(\"\\n\")\n",
        "print()"
      ],
      "execution_count": null,
      "outputs": [
        {
          "output_type": "stream",
          "text": [
            "\n"
          ],
          "name": "stdout"
        }
      ]
    }
  ]
}