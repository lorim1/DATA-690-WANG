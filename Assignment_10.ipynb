{
  "nbformat": 4,
  "nbformat_minor": 0,
  "metadata": {
    "colab": {
      "name": "Assignment_10.ipynb",
      "provenance": [],
      "collapsed_sections": []
    },
    "kernelspec": {
      "name": "python3",
      "display_name": "Python 3"
    }
  },
  "cells": [
    {
      "cell_type": "markdown",
      "metadata": {
        "id": "elZ2zLPnBfXq"
      },
      "source": [
        "## Assignment # 10 - Point Estimate and Interval Estimate (Confidence Interval)"
      ]
    },
    {
      "cell_type": "markdown",
      "metadata": {
        "id": "jxUO6FPEA8YR"
      },
      "source": [
        "A random survey of enrollment at 35 community colleges across the United States yielded the following figures:\n",
        "\n",
        "6,414; 1,550; 2,109; 9,350; 21,828; 4,300; 5,944; 5,722; 2,825; 2,044;\n",
        "\n",
        "5,481; 5,200; 5,853; 2,750; 10,012; 6,357; 27,000; 9,414; 7,681; 3,200;\n",
        "\n",
        "17,500; 9,200; 7,380; 18,314; 6,557; 13,713; 17,768; 7,493; 2,771; 2,861;\n",
        "\n",
        "1,263; 7,285; 28,165; 5,080; 11,622\n",
        "\n",
        "Perform point estimate and interval estimate with 95% confidence level using t-distribution.\n",
        "\n",
        "Since we don't know the population variance, we use t-distribiution instead of normal distribution."
      ]
    },
    {
      "cell_type": "code",
      "metadata": {
        "id": "2MdNBw8cA50h"
      },
      "source": [
        "# Import Python packages\n",
        "import math\n",
        "from scipy.stats import t"
      ],
      "execution_count": 27,
      "outputs": []
    },
    {
      "cell_type": "code",
      "metadata": {
        "colab": {
          "base_uri": "https://localhost:8080/"
        },
        "id": "rL9NLYHLBG71",
        "outputId": "22fbb9e9-5bd0-4a26-d947-c7f8bc25f5fc"
      },
      "source": [
        "# make each line of numbers a string object and then concatenate them together \n",
        "# The end result is one single string containing 35 numbers separated by \";\"\n",
        "\n",
        "data_1 = \"6,414; 1,550; 2,109; 9,350; 21,828; 4,300; 5,944; 5,722; 2,825; 2,044;\" \n",
        "data_2 = \"5,481; 5,200; 5,853; 2,750; 10,012; 6,357; 27,000; 9,414; 7,681; 3,200; \"\n",
        "data_3 = \"17,500; 9,200; 7,380; 18,314; 6,557; 13,713; 17,768; 7,493; 2,771; 2,861; \"\n",
        "data_4 = \"1,263; 7,285; 28,165; 5,080; 11,622\"\n",
        "data = data_1 + data_2 + data_3 + data_4\n",
        "print(data)"
      ],
      "execution_count": 2,
      "outputs": [
        {
          "output_type": "stream",
          "text": [
            "6,414; 1,550; 2,109; 9,350; 21,828; 4,300; 5,944; 5,722; 2,825; 2,044;5,481; 5,200; 5,853; 2,750; 10,012; 6,357; 27,000; 9,414; 7,681; 3,200; 17,500; 9,200; 7,380; 18,314; 6,557; 13,713; 17,768; 7,493; 2,771; 2,861; 1,263; 7,285; 28,165; 5,080; 11,622\n"
          ],
          "name": "stdout"
        }
      ]
    },
    {
      "cell_type": "code",
      "metadata": {
        "colab": {
          "base_uri": "https://localhost:8080/"
        },
        "id": "G0ZP_HqMBM1g",
        "outputId": "21568fb4-4539-4acc-b1b6-ca6ec50c582e"
      },
      "source": [
        "# Convert the single string to a list of strings using split() function\n",
        "# Make sure to specify a delimter or separator\n",
        "\n",
        "x = data.split(\";\")\n",
        "print(x)"
      ],
      "execution_count": 3,
      "outputs": [
        {
          "output_type": "stream",
          "text": [
            "['6,414', ' 1,550', ' 2,109', ' 9,350', ' 21,828', ' 4,300', ' 5,944', ' 5,722', ' 2,825', ' 2,044', '5,481', ' 5,200', ' 5,853', ' 2,750', ' 10,012', ' 6,357', ' 27,000', ' 9,414', ' 7,681', ' 3,200', ' 17,500', ' 9,200', ' 7,380', ' 18,314', ' 6,557', ' 13,713', ' 17,768', ' 7,493', ' 2,771', ' 2,861', ' 1,263', ' 7,285', ' 28,165', ' 5,080', ' 11,622']\n"
          ],
          "name": "stdout"
        }
      ]
    },
    {
      "cell_type": "code",
      "metadata": {
        "colab": {
          "base_uri": "https://localhost:8080/"
        },
        "id": "S_RPnrZdBQ0A",
        "outputId": "e21f8b66-9d6f-45db-a587-9cc415f6700a"
      },
      "source": [
        "e = [int(i.replace(\",\", \"\")) for i in x]\n",
        "print(e)"
      ],
      "execution_count": 4,
      "outputs": [
        {
          "output_type": "stream",
          "text": [
            "[6414, 1550, 2109, 9350, 21828, 4300, 5944, 5722, 2825, 2044, 5481, 5200, 5853, 2750, 10012, 6357, 27000, 9414, 7681, 3200, 17500, 9200, 7380, 18314, 6557, 13713, 17768, 7493, 2771, 2861, 1263, 7285, 28165, 5080, 11622]\n"
          ],
          "name": "stdout"
        }
      ]
    },
    {
      "cell_type": "code",
      "metadata": {
        "colab": {
          "base_uri": "https://localhost:8080/"
        },
        "id": "-Lam9pCbBSgn",
        "outputId": "34a01c5d-e1ed-4390-b506-a6329ea707ec"
      },
      "source": [
        "# Create a list of integers from the list of strings using List Comprehension or a function\n",
        "# Make sure to remove the \",\" first and then convert the strings to integers\n",
        "\n",
        "e = []\n",
        "for i in x:\n",
        "    y = i.replace(\",\", \"\")\n",
        "    y = int(y)\n",
        "    e.append(y)\n",
        "print(e)"
      ],
      "execution_count": 8,
      "outputs": [
        {
          "output_type": "stream",
          "text": [
            "[6414, 1550, 2109, 9350, 21828, 4300, 5944, 5722, 2825, 2044, 5481, 5200, 5853, 2750, 10012, 6357, 27000, 9414, 7681, 3200, 17500, 9200, 7380, 18314, 6557, 13713, 17768, 7493, 2771, 2861, 1263, 7285, 28165, 5080, 11622]\n"
          ],
          "name": "stdout"
        }
      ]
    },
    {
      "cell_type": "markdown",
      "metadata": {
        "id": "q8C8mD2cBaEU"
      },
      "source": [
        "### Step 1 - Calculate and Display the Sample Size and Sample Mean"
      ]
    },
    {
      "cell_type": "code",
      "metadata": {
        "colab": {
          "base_uri": "https://localhost:8080/"
        },
        "id": "jip0b8SOBWGP",
        "outputId": "914c20d5-167e-4194-9c18-55d8b412bd6a"
      },
      "source": [
        "# Calculate and display the sample size (sample size = 35)\n",
        "size = 0 \n",
        "for index in range(len(e)):\n",
        "  size = size + 1\n",
        "print(\"Sample size =\" , size)"
      ],
      "execution_count": 16,
      "outputs": [
        {
          "output_type": "stream",
          "text": [
            "Sample size = 35\n"
          ],
          "name": "stdout"
        }
      ]
    },
    {
      "cell_type": "code",
      "metadata": {
        "colab": {
          "base_uri": "https://localhost:8080/"
        },
        "id": "1pptTUDJBZ1s",
        "outputId": "5e73c3d2-3ff6-45aa-e08e-0da09123194c"
      },
      "source": [
        "# Calculate and display the sample mean (sample mean = 8629.0)\n",
        "sum = 0\n",
        "for index in range(len(e)):\n",
        "  sum = sum + e[index]\n",
        "\n",
        "sample_mean = sum / size\n",
        "print(\"Sample mean =\", round(sample_mean))"
      ],
      "execution_count": 17,
      "outputs": [
        {
          "output_type": "stream",
          "text": [
            "Sample mean = 8629\n"
          ],
          "name": "stdout"
        }
      ]
    },
    {
      "cell_type": "markdown",
      "metadata": {
        "id": "76tdlpW4B6rN"
      },
      "source": [
        "The point estimate of the mean enrollment of US community colleges is 8629."
      ]
    },
    {
      "cell_type": "markdown",
      "metadata": {
        "id": "VI6D2ZeMB_oU"
      },
      "source": [
        "### Step 2 - Calculate and Display the Sample Standard Deviation & Sample Standard Error"
      ]
    },
    {
      "cell_type": "markdown",
      "metadata": {
        "id": "dikBjkBwB_z8"
      },
      "source": [
        "Sample Standard Deviation $S=\\sqrt{\\dfrac{1}{n-1}\\sum\\limits_{i=1}^n (X_i-\\bar{X})^2}$\n",
        "\n",
        "Sample Standard Error = $\\dfrac{S}{\\sqrt{n}}$\n",
        "\n",
        "Note: The default Delta Degree of Freedom (DDOF) for Numpy's std function is 0 which is applicable to populate data. For sample data, we need to specify ddof=1.\n",
        "\n",
        "For the enrollment data, we round up the statistics to be the full integers (no decimal points)."
      ]
    },
    {
      "cell_type": "code",
      "metadata": {
        "colab": {
          "base_uri": "https://localhost:8080/"
        },
        "id": "LxnseMHzB3Fw",
        "outputId": "87a186e4-bfb7-412a-b776-28201ec58b14"
      },
      "source": [
        "# Calculate and display the sample standard deviation using Numpy's std function. (sample standard deviation = 6944.0)\n",
        "sum = 0\n",
        "for index in range(len(e)):\n",
        "  temp = (e[index] - sample_mean)**2\n",
        "  sum = sum + temp\n",
        "sample_sd = math.sqrt(  (  (1/(size-1)) * sum   )   )\n",
        "print(\"Sample standard deviation =\" , round(sample_sd))"
      ],
      "execution_count": 24,
      "outputs": [
        {
          "output_type": "stream",
          "text": [
            "Sample standard deviation = 6944\n"
          ],
          "name": "stdout"
        }
      ]
    },
    {
      "cell_type": "code",
      "metadata": {
        "colab": {
          "base_uri": "https://localhost:8080/"
        },
        "id": "F7DNGEV5CTn8",
        "outputId": "f83246ba-feab-4944-8a35-296c51bc3666"
      },
      "source": [
        "# Calculate and display the sample standard error (sample standard error = 1174)\n",
        "sample_se = sample_sd / (math.sqrt(size))\n",
        "print(\"Sample standard error =\" , round(sample_se))"
      ],
      "execution_count": 26,
      "outputs": [
        {
          "output_type": "stream",
          "text": [
            "Sample standard error = 1174\n"
          ],
          "name": "stdout"
        }
      ]
    },
    {
      "cell_type": "markdown",
      "metadata": {
        "id": "iyv1OvW4CeAA"
      },
      "source": [
        "### Step 3 - Calculate t Critical Value using t-Distribution"
      ]
    },
    {
      "cell_type": "markdown",
      "metadata": {
        "id": "Vk7gVVKBCeI_"
      },
      "source": [
        "$\\alpha$ = 1 - Confidence Level = 1 - 95% = 0.05\n",
        "\n",
        "$\\dfrac{\\alpha}{2}$ = 0.025\n",
        "\n",
        "n (sample size) = 35\n",
        "\n",
        "df (degree of freedom) = n - 1 = 35 - 1 = 34\n",
        "\n",
        "We will use Python scipy.stats t-distribution's PPF (Percentage Point Function) to calculate t critical value $t_{0.025,34}$."
      ]
    },
    {
      "cell_type": "code",
      "metadata": {
        "colab": {
          "base_uri": "https://localhost:8080/"
        },
        "id": "gDpbMVSZCr5c",
        "outputId": "364ed9e6-8826-4d42-be82-ac69aca4d2f4"
      },
      "source": [
        "# Calculate and display the t critical value using scipy.stats.t package ppf function (t critical value = 2.03)\n",
        "t_value = abs(t.ppf(.025,34))\n",
        "print(\"t critical value =\" , round(t_value,2))"
      ],
      "execution_count": 46,
      "outputs": [
        {
          "output_type": "stream",
          "text": [
            "t critical value = 2.03\n"
          ],
          "name": "stdout"
        }
      ]
    },
    {
      "cell_type": "markdown",
      "metadata": {
        "id": "IFMbSvq_DF8a"
      },
      "source": [
        "### Step 4 - Calculate the Margin of Error"
      ]
    },
    {
      "cell_type": "markdown",
      "metadata": {
        "id": "37dGq3enDJn1"
      },
      "source": [
        "Margin of Error = t-Statistics * Sample Standard Error = $t_{\\alpha/2,n-1}\\left(\\dfrac{s}{\\sqrt{n}}\\right)$"
      ]
    },
    {
      "cell_type": "code",
      "metadata": {
        "colab": {
          "base_uri": "https://localhost:8080/"
        },
        "id": "sNd-Qbk3DRxy",
        "outputId": "ae60e8ae-a4db-413b-b471-a6109e422fd7"
      },
      "source": [
        "# Calculate and display the margin of error (margin of error = 2383.0)\n",
        "margin_error = round(t_value,2) * sample_se\n",
        "print(\"Margin of error = \" , round(margin_error))"
      ],
      "execution_count": 48,
      "outputs": [
        {
          "output_type": "stream",
          "text": [
            "Margin of error =  2383.0\n"
          ],
          "name": "stdout"
        }
      ]
    },
    {
      "cell_type": "markdown",
      "metadata": {
        "id": "J9d8vDL_DZ91"
      },
      "source": [
        "### Step 5 - Calculate Lower and Upper Limit of the Confidence Interval"
      ]
    },
    {
      "cell_type": "markdown",
      "metadata": {
        "id": "-AC5aijZDc5z"
      },
      "source": [
        "Lower Limit = Sample Mean - Margin of Error\n",
        "\n",
        "Upper Limit = Sample Mean + Margin of Error"
      ]
    },
    {
      "cell_type": "code",
      "metadata": {
        "colab": {
          "base_uri": "https://localhost:8080/"
        },
        "id": "LMvsBS1yDh0B",
        "outputId": "294b7a99-25b3-47a9-92d0-eb848e1c61c9"
      },
      "source": [
        "# Calculate and display the lower limit (lower limit = 6246.0)\n",
        "lower_limit = sample_mean - margin_error\n",
        "print(\"Lower limit = \", round(lower_limit))"
      ],
      "execution_count": 49,
      "outputs": [
        {
          "output_type": "stream",
          "text": [
            "Lower limit =  6246.0\n"
          ],
          "name": "stdout"
        }
      ]
    },
    {
      "cell_type": "code",
      "metadata": {
        "colab": {
          "base_uri": "https://localhost:8080/"
        },
        "id": "oCYBSOQoDoVN",
        "outputId": "e284a4b4-5801-47d5-9b54-3b426d8ca6dd"
      },
      "source": [
        "# Calculate and display the upper limit (upper limit = 11012.0)\n",
        "upper_limit = sample_mean + margin_error\n",
        "print(\"Upper limit = \", round(upper_limit))"
      ],
      "execution_count": 50,
      "outputs": [
        {
          "output_type": "stream",
          "text": [
            "Upper limit =  11011.0\n"
          ],
          "name": "stdout"
        }
      ]
    },
    {
      "cell_type": "markdown",
      "metadata": {
        "id": "e77PBdwVDwwY"
      },
      "source": [
        "### Step 6 - Now We have the 95% Confidence Interval"
      ]
    },
    {
      "cell_type": "markdown",
      "metadata": {
        "id": "iCWXSWOjDzRN"
      },
      "source": [
        "Confidence Interval ($\\sigma$ unknown) = $\\bar{x}\\space\\pm\\space t_{\\alpha/2}\\left(\\dfrac{S}{\\sqrt{n}}\\right)$ = Sample_Mean $\\pm$ Margin of Error"
      ]
    },
    {
      "cell_type": "code",
      "metadata": {
        "colab": {
          "base_uri": "https://localhost:8080/"
        },
        "id": "1ar0MuPkDyIB",
        "outputId": "dce97507-bd8c-4eeb-fd70-fec28d7501c6"
      },
      "source": [
        "# Print the 95% confidence interveral in the form (lower limit, upper limit) (the 95% confidence interval = 6246.0 , 11012.0)\n",
        "print(\"The 95% confidence interveral = (\",round(lower_limit),\",\",round(upper_limit),\")\")"
      ],
      "execution_count": 52,
      "outputs": [
        {
          "output_type": "stream",
          "text": [
            "The 95% confidence interveral = ( 6246.0 , 11011.0 )\n"
          ],
          "name": "stdout"
        }
      ]
    },
    {
      "cell_type": "markdown",
      "metadata": {
        "id": "9zmw5U2rEBCV"
      },
      "source": [
        "Complete :)"
      ]
    }
  ]
}